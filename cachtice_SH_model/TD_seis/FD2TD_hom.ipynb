{
 "cells": [
  {
   "cell_type": "markdown",
   "metadata": {},
   "source": [
    "**Calculate TD shot gather from FD modelling results**<br />\n",
    "Daniel Köhn<br />\n",
    "Kiel, 20.09.2017"
   ]
  },
  {
   "cell_type": "markdown",
   "metadata": {},
   "source": [
    "**Import necessary packages**"
   ]
  },
  {
   "cell_type": "code",
   "execution_count": null,
   "metadata": {
    "collapsed": true
   },
   "outputs": [],
   "source": [
    "import numpy as np\n",
    "import matplotlib as plt\n",
    "import matplotlib.pyplot as plt\n",
    "from matplotlib.pyplot import gca\n",
    "import matplotlib as mpl\n",
    "from pylab import rcParams\n",
    "from matplotlib import rc\n",
    "import matplotlib.ticker as mtick\n",
    "from scipy import interpolate\n",
    "from scipy import signal\n",
    "#%matplotlib notebook"
   ]
  },
  {
   "cell_type": "markdown",
   "metadata": {},
   "source": [
    "**Define parameters for data visualization**"
   ]
  },
  {
   "cell_type": "code",
   "execution_count": null,
   "metadata": {
    "collapsed": true
   },
   "outputs": [],
   "source": [
    "clip = 5e-2   # data clip\n",
    "nsrc = 1     # number of shots\n",
    "ntr = 48      # number of receivers\n",
    "shotno = 1    # extract FDFD data for shot shotno\n",
    "\n",
    "# number of frequencies nf and frequency interval df\n",
    "FC_low = 0.5\n",
    "FC_high = 100.0\n",
    "\n",
    "nf = 400\n",
    "df = (FC_high - FC_low) / (nf-1)\n",
    "nfnsrc = nf * nsrc\n",
    "\n",
    "# TD parameters\n",
    "TmaxTD = 0.4          # maximum time TD\n",
    "TmaxFD = 0.25 / df    # maximum time FD\n",
    "dt = TmaxFD / nf      # time sampling FD\n",
    "\n",
    "# maximum time sample of FD2TD corresponding to TmaxTD\n",
    "nmaxFD = np.int(TmaxTD / dt)\n",
    "\n",
    "# define time samples in time and frequency domain\n",
    "tFD = np.arange(0.0, TmaxTD, dt)\n",
    "offset = np.arange(0, ntr, 1)\n",
    "\n",
    "fc = 40.0         # Ricker wavelet centre frequency [Hz]"
   ]
  },
  {
   "cell_type": "markdown",
   "metadata": {},
   "source": [
    "**Font properties**"
   ]
  },
  {
   "cell_type": "code",
   "execution_count": null,
   "metadata": {
    "collapsed": true
   },
   "outputs": [],
   "source": [
    "FSize = 15\n",
    "font = {'color':  'black',\n",
    "        'weight': 'bold',\n",
    "        'size': FSize}\n",
    "mpl.rc('xtick', labelsize=FSize) \n",
    "mpl.rc('ytick', labelsize=FSize) \n",
    "rcParams['figure.figsize'] = 10, 10"
   ]
  },
  {
   "cell_type": "markdown",
   "metadata": {},
   "source": [
    "__Time Damping__"
   ]
  },
  {
   "cell_type": "code",
   "execution_count": null,
   "metadata": {
    "collapsed": true
   },
   "outputs": [],
   "source": [
    "S = 0.0"
   ]
  },
  {
   "cell_type": "markdown",
   "metadata": {},
   "source": [
    "**Read 2 cross TE-mode FD data**"
   ]
  },
  {
   "cell_type": "code",
   "execution_count": null,
   "metadata": {
    "collapsed": true
   },
   "outputs": [],
   "source": [
    "name_FDFD = \"cachtice_p_stage_1.bin\"\n",
    "f = open (name_FDFD)\n",
    "data_type = np.dtype ('float32').newbyteorder ('<')\n",
    "data_FDFD = np.fromfile(f, dtype=data_type)\n",
    "data_FDFD = data_FDFD.reshape(nf*nsrc,2*ntr)\n",
    "data_FDFD = np.transpose(data_FDFD)\n",
    "data_FDFD = np.flipud(data_FDFD)"
   ]
  },
  {
   "cell_type": "markdown",
   "metadata": {},
   "source": [
    "**Extract FD data for shot shotno**"
   ]
  },
  {
   "cell_type": "code",
   "execution_count": null,
   "metadata": {
    "collapsed": true
   },
   "outputs": [],
   "source": [
    "FD_real = data_FDFD[0:2*ntr-1:2,shotno-1:nfnsrc:nsrc]\n",
    "FD_imag = data_FDFD[1:2*ntr:2,shotno-1:nfnsrc:nsrc]\n",
    "data_FDFD = None\n",
    "\n",
    "# taper FD data\n",
    "window = signal.tukey(nf,2)\n",
    "\n",
    "for i in range (ntr):\n",
    "    FD_real[i,:] *= window\n",
    "    FD_imag[i,:] *= window"
   ]
  },
  {
   "cell_type": "code",
   "execution_count": null,
   "metadata": {
    "collapsed": true
   },
   "outputs": [],
   "source": [
    "# Define Ricker wavelet\n",
    "t_stf = np.linspace(0, dt * nmaxFD, nmaxFD, endpoint=True)\n",
    "ts = 1.0 / fc\n",
    "tau = np.pi * (t_stf - 1.5 * ts) / (1.5 * ts)\n",
    "wavelet = (1.0 - 4.0 * tau * tau) * np.exp(-2.0 * tau * tau) \n",
    "\n",
    "stf_real  = np.zeros((nf,1))\n",
    "stf_imag  = np.zeros((nf,1))\n",
    "\n",
    "f = FC_low\n",
    "for i in range (nf):\n",
    "\n",
    "    h=nmaxFD-1\n",
    "    for j in range (nmaxFD):\n",
    "            \n",
    "        stf_real[i] += wavelet[j] * np.cos(2.0 * t_stf[j] * f * np.pi) * dt;\n",
    "        stf_imag[i] += wavelet[j] * np.sin(2.0 * t_stf[j] * f * np.pi) * dt;\n",
    "        h=h-1\n",
    "        \n",
    "    f +=df\n",
    "    \n",
    "FDFD_stf_real = np.zeros((nf, ntr))\n",
    "FDFD_stf_imag = np.zeros((nf, ntr))\n",
    "    \n",
    "    \n",
    "# copy STF FD data into 2D matrix\n",
    "for i in range (nf):\n",
    "    for j in range (ntr):\n",
    "        \n",
    "        FDFD_stf_real[i,j] = stf_real[i]\n",
    "        FDFD_stf_imag[i,j] = stf_imag[i]\n",
    "\n",
    "# assemble complex data\n",
    "FDFD_stf = FDFD_stf_real + 1j*FDFD_stf_imag"
   ]
  },
  {
   "cell_type": "code",
   "execution_count": null,
   "metadata": {
    "collapsed": true
   },
   "outputs": [],
   "source": [
    "# assemble complex data\n",
    "FDFD = FD_real + 1j*FD_imag\n",
    "FD_real = None\n",
    "FD_imag = None\n",
    "FDFD = np.transpose(FDFD)\n",
    "\n",
    "# convole spike data with source wavelet\n",
    "tmp = FDFD * FDFD_stf\n",
    "FDFD = None\n",
    "FDFD = tmp\n",
    "\n",
    "tmp1 = np.concatenate((FDFD, np.zeros((nf, ntr)), np.zeros((nf, ntr)), np.flipud(FDFD)))\n",
    "#tmp1 = np.concatenate((np.zeros((1, ntr)),FDFD,np.flipud(FDFD)))\n",
    "FDFD = None\n",
    "FDFD = tmp1"
   ]
  },
  {
   "cell_type": "code",
   "execution_count": null,
   "metadata": {
    "collapsed": true
   },
   "outputs": [],
   "source": [
    "#plt.imshow(np.real(FDFD))\n",
    "#plt.show()"
   ]
  },
  {
   "cell_type": "markdown",
   "metadata": {},
   "source": [
    "**IFFT of FD data**"
   ]
  },
  {
   "cell_type": "code",
   "execution_count": null,
   "metadata": {
    "collapsed": true
   },
   "outputs": [],
   "source": [
    "# transformation from FD to TD\n",
    "FD2TD = np.fft.ifft(FDFD,axis=0)\n",
    "FD2TD = np.real(FD2TD)\n",
    "tmp1 = None"
   ]
  },
  {
   "cell_type": "markdown",
   "metadata": {},
   "source": [
    "**Extract FD2TD up to TmaxTD and resample FD2TD from dtFD to dt**"
   ]
  },
  {
   "cell_type": "code",
   "execution_count": null,
   "metadata": {
    "collapsed": true
   },
   "outputs": [],
   "source": [
    "# extract FD2TD data up to TmaxTD\n",
    "tmp1 = FD2TD[1:nmaxFD,:]\n",
    "FD2DTD = None\n",
    "\n",
    "# clean memory\n",
    "tmp = None"
   ]
  },
  {
   "cell_type": "markdown",
   "metadata": {},
   "source": [
    "**Normalize data**"
   ]
  },
  {
   "cell_type": "code",
   "execution_count": null,
   "metadata": {
    "collapsed": true
   },
   "outputs": [],
   "source": [
    "#max_TD = np.max(traces)\n",
    "max_FD = np.max(tmp1)\n",
    "tmp1 = tmp1 / max_FD\n",
    "FD2TD = np.flipud(tmp1)\n",
    "\n",
    "tmp1 = None"
   ]
  },
  {
   "cell_type": "markdown",
   "metadata": {},
   "source": [
    "__Load analytical solution__"
   ]
  },
  {
   "cell_type": "code",
   "execution_count": null,
   "metadata": {
    "collapsed": true
   },
   "outputs": [],
   "source": [
    "#TD_data = np.genfromtxt(\"../TE_analytical/analytical_hom.txt\", dtype=None)\n",
    "#TD_data /= np.amax(TD_data)\n",
    "#TD_data = np.flipud(TD_data)"
   ]
  },
  {
   "cell_type": "code",
   "execution_count": null,
   "metadata": {
    "collapsed": true
   },
   "outputs": [],
   "source": [
    "#tmp1 = TD_data[:,0:29]\n",
    "#tmp2 = TD_data[:,30:60]\n",
    "#tmp3 = TD_data[:,61:88]\n",
    "#tmp4 = TD_data[:,89:117]\n",
    "\n",
    "#TD_data = None\n",
    "\n",
    "#tmp = np.concatenate((np.flipud(tmp2.T), np.flipud(tmp3.T), tmp1.T, tmp4.T))\n",
    "#TD_data = tmp.T\n",
    "\n",
    "# calculate 1st temporal derivative \n",
    "#TD_data = np.diff(TD_data,axis=0)\n",
    "\n",
    "#TD_data = TD_data / np.amax(TD_data)\n",
    "#TD_data = np.fliplr(TD_data)\n",
    "\n",
    "#tmp = None\n",
    "#tmp1 = None\n",
    "#tmp2 = None\n",
    "#tmp3 = None\n",
    "#tmp4 = None"
   ]
  },
  {
   "cell_type": "markdown",
   "metadata": {},
   "source": [
    "**Plot shot gather**"
   ]
  },
  {
   "cell_type": "code",
   "execution_count": null,
   "metadata": {
    "collapsed": true
   },
   "outputs": [],
   "source": [
    "def do_plot(n, model, cm, an, title, clip):\n",
    "    \n",
    "    ax=plt.subplot(1,1,n)\n",
    "    \n",
    "    extent = [np.min(offset), np.max(offset), 0.0, dt * nmaxFD]\n",
    "\n",
    "    plt.rc('font',**{'family':'sans-serif','sans-serif':['Helvetica']})\n",
    "    plt.rc('text', usetex=True)\n",
    "\n",
    "    im = plt.imshow(model, cmap=cm, interpolation='nearest', extent=extent, vmin=-clip, vmax=clip, aspect='auto')\n",
    "\n",
    "    a = gca()\n",
    "    a.set_xticklabels(a.get_xticks(), font)\n",
    "    a.set_yticklabels(a.get_yticks(), font)\n",
    "    \n",
    "    #a.yaxis.set_major_formatter(mtick.FormatStrFormatter('%2.0d2'))\n",
    "    a.xaxis.set_major_formatter(mtick.FormatStrFormatter('%.0d'))\n",
    "\n",
    "    # Add the grid\n",
    "    ax.grid(which='major', axis='both', linestyle='-')\n",
    "    \n",
    "    plt.title(title, fontdict=font)\n",
    "    plt.ylabel('Time [s]', fontdict=font)\n",
    "    #ax.set_yticklabels([])\n",
    "    plt.xlabel('Trace no.', fontdict=font)\n",
    "    plt.gca().invert_yaxis()"
   ]
  },
  {
   "cell_type": "code",
   "execution_count": null,
   "metadata": {},
   "outputs": [],
   "source": [
    "plt.close('all')\n",
    "plt.figure()\n",
    "do_plot(1, -np.fliplr(FD2TD), 'gray', '', r\"GERMAINE FDFD\", clip)\n",
    "#do_plot(2, TD_data, 'gray', '', r\"Analytical Solution\", clip)\n",
    "plt.tight_layout()\n",
    "output_file = \"test_A0_NPML_20.png\"\n",
    "#plt.savefig(output_file, bbox_inches='tight', format='pdf')\n",
    "plt.savefig(output_file, bbox_inches='tight', format='png')\n",
    "plt.show()"
   ]
  },
  {
   "cell_type": "code",
   "execution_count": null,
   "metadata": {
    "collapsed": true
   },
   "outputs": [],
   "source": []
  }
 ],
 "metadata": {
  "anaconda-cloud": {},
  "kernelspec": {
   "display_name": "Python 3",
   "language": "python",
   "name": "python3"
  },
  "language_info": {
   "codemirror_mode": {
    "name": "ipython",
    "version": 3
   },
   "file_extension": ".py",
   "mimetype": "text/x-python",
   "name": "python",
   "nbconvert_exporter": "python",
   "pygments_lexer": "ipython3",
   "version": "3.6.2"
  }
 },
 "nbformat": 4,
 "nbformat_minor": 2
}
