{
 "cells": [
  {
   "cell_type": "markdown",
   "metadata": {},
   "source": [
    "__Compare acoustic FDFD solution with analytical solution__\n",
    "\n",
    "Daniel Köhn \n",
    "Kiel, 21/09/2016"
   ]
  },
  {
   "cell_type": "markdown",
   "metadata": {},
   "source": [
    "__Import Libraries__"
   ]
  },
  {
   "cell_type": "code",
   "execution_count": 1,
   "metadata": {
    "collapsed": true
   },
   "outputs": [],
   "source": [
    "import matplotlib.pyplot as plt\n",
    "import matplotlib as mpl\n",
    "import numpy as np\n",
    "from matplotlib.colors import LightSource, Normalize\n",
    "from matplotlib.pyplot import gca\n",
    "from pylab import rcParams\n",
    "from matplotlib import rc\n",
    "from copy import copy\n",
    "import scipy.special as sp\n",
    "from mpl_toolkits.axes_grid1 import make_axes_locatable\n",
    "import pickle"
   ]
  },
  {
   "cell_type": "markdown",
   "metadata": {},
   "source": [
    "__FD grid dimensions__"
   ]
  },
  {
   "cell_type": "code",
   "execution_count": 2,
   "metadata": {
    "collapsed": true
   },
   "outputs": [],
   "source": [
    "DH = 40.0;\n",
    "NX = 250;\n",
    "NY = 125;"
   ]
  },
  {
   "cell_type": "markdown",
   "metadata": {},
   "source": [
    "__Define fonts__"
   ]
  },
  {
   "cell_type": "code",
   "execution_count": 3,
   "metadata": {
    "collapsed": false
   },
   "outputs": [],
   "source": [
    "FSize = 20\n",
    "font = {'color':  'black',\n",
    "        'weight': 'normal',\n",
    "        'size': FSize,\n",
    "        'family': 'serif'} \n",
    "rcParams['figure.figsize'] = 10, 8"
   ]
  },
  {
   "cell_type": "markdown",
   "metadata": {},
   "source": [
    "__Read true P-wave velocity model__"
   ]
  },
  {
   "cell_type": "code",
   "execution_count": 4,
   "metadata": {
    "collapsed": false
   },
   "outputs": [],
   "source": [
    "f1 = open ('snap/incl2_shot_1.p')\n",
    "data_type = np.dtype ('float32').newbyteorder ('<')\n",
    "p = np.fromfile (f1, dtype=data_type)\n",
    "p = p.reshape(NX,NY)\n",
    "p = np.transpose(p)\n",
    "p = np.flipud(p)\n",
    "p = p / np.amax(p)"
   ]
  },
  {
   "cell_type": "markdown",
   "metadata": {},
   "source": [
    "__Define Axis__"
   ]
  },
  {
   "cell_type": "code",
   "execution_count": 5,
   "metadata": {
    "collapsed": false
   },
   "outputs": [],
   "source": [
    "x = np.arange(DH, DH*NX, DH)\n",
    "y = np.arange(DH, DH*NY, DH)\n",
    "lim = min(x),max(x),min(y),max(y);"
   ]
  },
  {
   "cell_type": "markdown",
   "metadata": {},
   "source": [
    "__Define Acquisition geometry__"
   ]
  },
  {
   "cell_type": "markdown",
   "metadata": {},
   "source": [
    "Define source positions"
   ]
  },
  {
   "cell_type": "code",
   "execution_count": 6,
   "metadata": {
    "collapsed": false
   },
   "outputs": [],
   "source": [
    "XSRC = 500.0\n",
    "YSRC = 400.0"
   ]
  },
  {
   "cell_type": "markdown",
   "metadata": {},
   "source": [
    "Calculate source-receiver distance r "
   ]
  },
  {
   "cell_type": "code",
   "execution_count": 7,
   "metadata": {
    "collapsed": false
   },
   "outputs": [],
   "source": [
    "xv, yv = np.meshgrid(x, y)\n",
    "r = np.sqrt((xv-XSRC)**2+(yv-YSRC)**2)"
   ]
  },
  {
   "cell_type": "markdown",
   "metadata": {},
   "source": [
    "Define discrete frequencies"
   ]
  },
  {
   "cell_type": "code",
   "execution_count": 8,
   "metadata": {
    "collapsed": false
   },
   "outputs": [],
   "source": [
    "f = 20.0\n",
    "w = 2.0 * np.pi * f"
   ]
  },
  {
   "cell_type": "markdown",
   "metadata": {},
   "source": [
    "**Calculate analytical solution for homogeneous acoustic full space at each receiver position**"
   ]
  },
  {
   "cell_type": "code",
   "execution_count": 9,
   "metadata": {
    "collapsed": false
   },
   "outputs": [],
   "source": [
    "V = 4000.0\n",
    "p_analy = -np.flipud(np.real(0-1j * np.pi * sp.hankel2(0,(r*w/V))))\n",
    "p_analy = p_analy / np.amax(p_analy)\n",
    "vmin = -1.0\n",
    "vmax = 1.0"
   ]
  },
  {
   "cell_type": "markdown",
   "metadata": {},
   "source": [
    "__Define SubPlot__"
   ]
  },
  {
   "cell_type": "code",
   "execution_count": 10,
   "metadata": {
    "collapsed": false
   },
   "outputs": [],
   "source": [
    "def do_plot(n, cm, im, title):\n",
    "    \n",
    "    ax=plt.subplot(2, 1, n)\n",
    "    \n",
    "    # define tick marks\n",
    "    #ax.set_xticks([12000, 13000, 14000, 15000, 16000])\n",
    "    #ax.set_yticks([0, 100, 200, 300, 400])\n",
    "    \n",
    "    if n==1:\n",
    "        ax.set_xticks([ ])\n",
    "    \n",
    "    # testing some stuff \n",
    "    #plt.rc('font',**{'family':'sans-serif','sans-serif':['Helvetica']})\n",
    "    ## for Palatino and other serif fonts use:\n",
    "    #rc('font',**{'family':'serif','serif':['Palatino']})\n",
    "    #plt.rc('text', usetex=True)\n",
    "    # plt.pcolor(x, y, vp, cmap=cm, vmin=vpmin)\n",
    "    \n",
    "    # imshow of Vp models\n",
    "    cs = plt.imshow(im,  cmap=cm, interpolation='none', extent=[min(x),max(x),min(y),max(y)], vmin=vmin, vmax=vmax)\n",
    "    \n",
    "    # plot source and receiver positions\n",
    "    plt.plot(XSRC,YSRC,'r*',linewidth=3,markersize=15);\n",
    "        \n",
    "    # display values below lower clip value vmin as white \n",
    "    cs.cmap.set_under('w')\n",
    "    \n",
    "    # limit imshow \n",
    "    plt.axis(lim);\n",
    "    \n",
    "    # apply font properties to tick labels\n",
    "    a = gca()\n",
    "    a.set_xticklabels(a.get_xticks(), font)\n",
    "    a.set_yticklabels(a.get_yticks(), font)\n",
    "    \n",
    "    # scale axis\n",
    "    #plt.axis('scaled') \n",
    "    #ax.set_aspect('auto')\n",
    "    \n",
    "    # label title and axis and apply font properties\n",
    "    plt.title(title, fontdict=font)\n",
    "    plt.ylabel('Depth [m]', fontdict=font)\n",
    "    if n==2:\n",
    "        plt.xlabel('x [m]', fontdict=font)\n",
    "    plt.gca().invert_yaxis()\n",
    "    \n",
    "    # define colorbar\n",
    "    \n",
    "    # fit and label colorbar\\n\",\n",
    "    divider = make_axes_locatable(ax)\n",
    "    cax = divider.append_axes(\"right\", size=\"5%\", pad=0.05)\n",
    "    cbar = plt.colorbar(cs, cax=cax)\n",
    "    cbar.set_label(\"Real(p)\", fontdict=font, labelpad=1)\n",
    "    cbar.ax.tick_params(labelsize=FSize) "
   ]
  },
  {
   "cell_type": "markdown",
   "metadata": {},
   "source": [
    "__Plot SubPlots__"
   ]
  },
  {
   "cell_type": "code",
   "execution_count": 11,
   "metadata": {
    "collapsed": false
   },
   "outputs": [],
   "source": [
    "plt.close('all')\n",
    "plt.figure()\n",
    "do_plot(1,'seismic', p, 'GERMAINE')\n",
    "do_plot(2,'seismic', p_analy, 'analytical solution')\n",
    "\n",
    "# optimize layout\n",
    "plt.tight_layout()\n",
    "#plt.savefig('test.png', format='png', dpi=100)\n",
    "plt.savefig('GERMAINE_analy_comp.pdf', format='pdf')\n",
    "plt.show()"
   ]
  },
  {
   "cell_type": "code",
   "execution_count": 12,
   "metadata": {
    "collapsed": false
   },
   "outputs": [],
   "source": [
    "plt.plot(p_analy[50][:],'r-')\n",
    "plt.plot(p[50][:],'b-')\n",
    "plt.savefig('GERMAINE_analy_comp_profile.pdf', format='pdf')\n",
    "plt.show()"
   ]
  }
 ],
 "metadata": {
  "kernelspec": {
   "display_name": "Python 3",
   "language": "python",
   "name": "python3"
  },
  "language_info": {
   "codemirror_mode": {
    "name": "ipython",
    "version": 3
   },
   "file_extension": ".py",
   "mimetype": "text/x-python",
   "name": "python",
   "nbconvert_exporter": "python",
   "pygments_lexer": "ipython3",
   "version": "3.5.1"
  }
 },
 "nbformat": 4,
 "nbformat_minor": 0
}
