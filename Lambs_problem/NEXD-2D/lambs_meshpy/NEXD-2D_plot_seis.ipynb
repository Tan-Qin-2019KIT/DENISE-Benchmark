{
 "cells": [
  {
   "cell_type": "markdown",
   "metadata": {},
   "source": [
    "__Plot NEXD-2D seismograms__\n",
    "\n",
    "Daniel Köhn \n",
    "Kiel, 27/02/2018"
   ]
  },
  {
   "cell_type": "markdown",
   "metadata": {},
   "source": [
    "__Import Libraries__"
   ]
  },
  {
   "cell_type": "code",
   "execution_count": null,
   "metadata": {
    "collapsed": true
   },
   "outputs": [],
   "source": [
    "import matplotlib.pyplot as plt\n",
    "import matplotlib as mpl\n",
    "import numpy as np\n",
    "from matplotlib.colors import LightSource, Normalize\n",
    "from matplotlib.pyplot import gca\n",
    "from pylab import rcParams\n",
    "from matplotlib import rc\n",
    "from matplotlib.ticker import FormatStrFormatter"
   ]
  },
  {
   "cell_type": "markdown",
   "metadata": {},
   "source": [
    "__Define fonts__"
   ]
  },
  {
   "cell_type": "code",
   "execution_count": null,
   "metadata": {
    "collapsed": true
   },
   "outputs": [],
   "source": [
    "FSize = 20\n",
    "font = {'color':  'black',\n",
    "        'weight': 'normal',\n",
    "        'size': FSize}\n",
    "mpl.rc('xtick', labelsize=FSize) \n",
    "mpl.rc('ytick', labelsize=FSize) \n",
    "rcParams['figure.figsize'] = 16, 12"
   ]
  },
  {
   "cell_type": "markdown",
   "metadata": {},
   "source": [
    "__Read seismograms (SPECFEM-2D)__"
   ]
  },
  {
   "cell_type": "code",
   "execution_count": null,
   "metadata": {
    "collapsed": true
   },
   "outputs": [],
   "source": [
    "basename_sem = \"ref/\"\n",
    "state = \"AA\""
   ]
  },
  {
   "cell_type": "code",
   "execution_count": null,
   "metadata": {
    "collapsed": true
   },
   "outputs": [],
   "source": [
    "# define file names for all components\n",
    "name_seis_1_x = basename_sem + \"S0001.\" + state + \".BXX.semd\"\n",
    "name_seis_1_z = basename_sem + \"S0001.\" + state + \".BXZ.semd\""
   ]
  },
  {
   "cell_type": "code",
   "execution_count": null,
   "metadata": {
    "collapsed": true
   },
   "outputs": [],
   "source": [
    "# read 2-component data\n",
    "data_sem_1_x = np.genfromtxt(name_seis_1_x, dtype=None)\n",
    "data_sem_1_z = np.genfromtxt(name_seis_1_z, dtype=None)"
   ]
  },
  {
   "cell_type": "code",
   "execution_count": null,
   "metadata": {
    "collapsed": true
   },
   "outputs": [],
   "source": [
    "# define time vector [s]\n",
    "tsem = data_sem_1_x[:,0]"
   ]
  },
  {
   "cell_type": "markdown",
   "metadata": {},
   "source": [
    "__Read seismograms (analytical solution)__"
   ]
  },
  {
   "cell_type": "code",
   "execution_count": null,
   "metadata": {
    "collapsed": true
   },
   "outputs": [],
   "source": [
    "basename_analy = \"ref/\""
   ]
  },
  {
   "cell_type": "code",
   "execution_count": null,
   "metadata": {
    "collapsed": true
   },
   "outputs": [],
   "source": [
    "# define file names for all components\n",
    "name_seis_1_x = basename_analy + \"Ux_file_ascii_rec1\"\n",
    "name_seis_1_z = basename_analy + \"Uz_file_ascii_rec1\""
   ]
  },
  {
   "cell_type": "code",
   "execution_count": null,
   "metadata": {
    "collapsed": true
   },
   "outputs": [],
   "source": [
    "# read 2-component data\n",
    "data_analy_1_x = np.genfromtxt(name_seis_1_x, dtype=None)\n",
    "data_analy_1_z = np.genfromtxt(name_seis_1_z, dtype=None)"
   ]
  },
  {
   "cell_type": "code",
   "execution_count": null,
   "metadata": {
    "collapsed": true
   },
   "outputs": [],
   "source": [
    "# define time vector [s]\n",
    "tanaly = data_analy_1_x[:,0]"
   ]
  },
  {
   "cell_type": "markdown",
   "metadata": {},
   "source": [
    "__Read seismograms (NEXD-2D)__"
   ]
  },
  {
   "cell_type": "code",
   "execution_count": null,
   "metadata": {
    "collapsed": true
   },
   "outputs": [],
   "source": [
    "basename_nexd = \"ref/seismo_NEXD\""
   ]
  },
  {
   "cell_type": "code",
   "execution_count": null,
   "metadata": {
    "collapsed": true
   },
   "outputs": [],
   "source": [
    "# define file names for all components\n",
    "name_seis_1_x = basename_nexd + \".x.0000001\" + \".sdu\"\n",
    "name_seis_1_z = basename_nexd + \".z.0000001\" + \".sdu\""
   ]
  },
  {
   "cell_type": "code",
   "execution_count": null,
   "metadata": {
    "collapsed": true
   },
   "outputs": [],
   "source": [
    "# read 2-component data\n",
    "data_nexd_1_x = np.genfromtxt(name_seis_1_x, dtype=None)\n",
    "data_nexd_1_z = np.genfromtxt(name_seis_1_z, dtype=None)"
   ]
  },
  {
   "cell_type": "code",
   "execution_count": null,
   "metadata": {
    "collapsed": true
   },
   "outputs": [],
   "source": [
    "# define time vector [s]\n",
    "tnexd = data_nexd_1_x[:,0]"
   ]
  },
  {
   "cell_type": "markdown",
   "metadata": {},
   "source": [
    "__Define SubPlot__"
   ]
  },
  {
   "cell_type": "code",
   "execution_count": null,
   "metadata": {
    "collapsed": true
   },
   "outputs": [],
   "source": [
    "def do_plot(n, seis_sem, seis_nexd, seis_analy, an, title):\n",
    "    \n",
    "    ax=plt.subplot(2, 1, n)    \n",
    "    \n",
    "    rc('font',**{'family':'sans-serif','sans-serif':['Helvetica']})\n",
    "    rc('text', usetex=True)\n",
    "    \n",
    "    plt.plot(tsem,seis_sem[:,1]/np.amax(seis_sem[:,1]))\n",
    "    plt.plot(tnexd,seis_nexd[:,1]/np.amax(seis_nexd[:,1]))\n",
    "    plt.plot(tanaly,seis_analy[:,1]/np.amax(seis_analy[:,1]))\n",
    "    \n",
    "    #plt.plot(tsem,seis_sem[:,1])\n",
    "    #plt.plot(tnexd,seis_nexd[:,1])\n",
    "    #plt.plot(tanaly,seis_analy[:,1])\n",
    "        \n",
    "    # legend\n",
    "    plt.legend(('SPECFEM-2D', 'NEXD-2D (no PML)', 'analytical'), shadow=True, fontsize=FSize)\n",
    "    \n",
    "    a = gca()\n",
    "    a.set_xticklabels(a.get_xticks(), font)\n",
    "    a.set_yticklabels(a.get_yticks(), font)\n",
    "    plt.axis('tight')\n",
    "    plt.title(title, fontdict=font)\n",
    "    plt.ylabel(an, fontdict=font)\n",
    "    if n!=2:\n",
    "        ax.set_xticks([])\n",
    "    if n==2:\n",
    "        plt.xlabel('Time [s]', fontdict=font)\n",
    "    plt.tight_layout()"
   ]
  },
  {
   "cell_type": "markdown",
   "metadata": {},
   "source": [
    "__Plot SubPlots__"
   ]
  },
  {
   "cell_type": "code",
   "execution_count": null,
   "metadata": {
    "collapsed": false
   },
   "outputs": [],
   "source": [
    "plt.close('all')\n",
    "plt.figure()\n",
    "do_plot(1, data_sem_1_x, data_nexd_1_x, data_analy_1_x, '$U_x$ []', \"Lambs problem (receiver 1)\")\n",
    "do_plot(2, data_sem_1_z, data_nexd_1_z, data_analy_1_z, '$U_z$ []', \"\")\n",
    "filename = \"lambs_problem_receiver_1_u.pdf\"\n",
    "plt.savefig(filename, bbox_inches='tight', format='pdf')\n",
    "#plt.savefig(filename, bbox_inches='tight', format='png', dpi=200)\n",
    "plt.show()"
   ]
  }
 ],
 "metadata": {
  "anaconda-cloud": {},
  "kernelspec": {
   "display_name": "Python [default]",
   "language": "python",
   "name": "python3"
  },
  "language_info": {
   "codemirror_mode": {
    "name": "ipython",
    "version": 3
   },
   "file_extension": ".py",
   "mimetype": "text/x-python",
   "name": "python",
   "nbconvert_exporter": "python",
   "pygments_lexer": "ipython3",
   "version": "3.5.2"
  }
 },
 "nbformat": 4,
 "nbformat_minor": 1
}
