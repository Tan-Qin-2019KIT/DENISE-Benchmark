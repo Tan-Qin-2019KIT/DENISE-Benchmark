{
 "cells": [
  {
   "cell_type": "markdown",
   "metadata": {},
   "source": [
    "**Plot Lambs Problem snapshots**\n",
    "\n",
    "**Daniel Köhn**\n",
    "\n",
    "**Kiel, 02/03/2018**\n",
    "\n",
    "**Import necessary packages**"
   ]
  },
  {
   "cell_type": "code",
   "execution_count": null,
   "metadata": {
    "collapsed": true
   },
   "outputs": [],
   "source": [
    "from __future__ import division\n",
    "import matplotlib.pyplot as plt\n",
    "import matplotlib as mpl\n",
    "import numpy as np\n",
    "from matplotlib.colors import LightSource, Normalize\n",
    "from matplotlib.pyplot import gca\n",
    "from pylab import rcParams\n",
    "from matplotlib import rc\n",
    "import scipy.ndimage.filters\n",
    "import pickle"
   ]
  },
  {
   "cell_type": "markdown",
   "metadata": {},
   "source": [
    "**FD grid dimensions **"
   ]
  },
  {
   "cell_type": "code",
   "execution_count": null,
   "metadata": {
    "collapsed": true
   },
   "outputs": [],
   "source": [
    "DH = 2.0;\n",
    "NY = 1504;\n",
    "NX = 1856;\n",
    "N = NX*NY;"
   ]
  },
  {
   "cell_type": "markdown",
   "metadata": {},
   "source": [
    "**Wavefield snapshot parameters**"
   ]
  },
  {
   "cell_type": "code",
   "execution_count": null,
   "metadata": {
    "collapsed": true
   },
   "outputs": [],
   "source": [
    "clip = 3e0         # wavefield clipping\n",
    "NSNAP1 = 1         # first snapshot\n",
    "NSNAP2 = 6         # last snapshot\n",
    "DSNAP = 1          # snapshot increment\n",
    "TSNAP1 = 2.3e-4    # time of first snapshot\n",
    "TSNAP2 = 1.38      # time of last snapshot\n",
    "TSNAPINC = 0.138   # time increment between snapshots"
   ]
  },
  {
   "cell_type": "markdown",
   "metadata": {},
   "source": [
    "**Define fonts**"
   ]
  },
  {
   "cell_type": "code",
   "execution_count": null,
   "metadata": {
    "collapsed": false
   },
   "outputs": [],
   "source": [
    "FSize = 22\n",
    "font = {'color':  'black',\n",
    "        'weight': 'bold',\n",
    "        'size': FSize}\n",
    "mpl.rc('xtick', labelsize=FSize) \n",
    "mpl.rc('ytick', labelsize=FSize) \n",
    "rcParams['figure.figsize'] = 12, 12"
   ]
  },
  {
   "cell_type": "markdown",
   "metadata": {},
   "source": [
    "**Read S-wave velocity model and RTM result**"
   ]
  },
  {
   "cell_type": "code",
   "execution_count": null,
   "metadata": {
    "collapsed": false
   },
   "outputs": [],
   "source": [
    "f = open ('models/modelTest_vp.bin')\n",
    "data_type = np.dtype ('float32').newbyteorder ('<')\n",
    "vp = np.fromfile (f, dtype=data_type)\n",
    "vp = vp.reshape(NX,NY)\n",
    "vp = np.transpose(vp)\n",
    "vp = np.flipud(vp)"
   ]
  },
  {
   "cell_type": "code",
   "execution_count": null,
   "metadata": {
    "collapsed": false
   },
   "outputs": [],
   "source": [
    "def load_snap(offset):\n",
    "    f1 = open ('snap/waveform_lamb.bin.y')\n",
    "    data_type1 = np.dtype ('float32').newbyteorder ('<')\n",
    "    offset_snap = 4*NX*NY*(offset-1);\n",
    "    snap = np.memmap(f1, dtype=data_type1, mode='c', shape=(NX,NY), offset=offset_snap)\n",
    "    snap = np.transpose(snap)\n",
    "    snap = np.flipud(snap)\n",
    "    return snap"
   ]
  },
  {
   "cell_type": "markdown",
   "metadata": {},
   "source": [
    "**Define Axis**"
   ]
  },
  {
   "cell_type": "code",
   "execution_count": null,
   "metadata": {
    "collapsed": false
   },
   "outputs": [],
   "source": [
    "x = np.arange(DH, DH*(NX-1), DH)\n",
    "y = np.arange(DH, DH*(NY-1), DH)\n",
    "\n",
    "# convert m -> km\n",
    "x/=1000.0\n",
    "y/=1000.0"
   ]
  },
  {
   "cell_type": "markdown",
   "metadata": {},
   "source": [
    "**Plot $\\alpha$-Blending of Vp model (Gray) and snapshots (Seismic)**"
   ]
  },
  {
   "cell_type": "code",
   "execution_count": null,
   "metadata": {
    "collapsed": false
   },
   "outputs": [],
   "source": [
    "extent = [np.min(x),np.max(x),np.min(y),np.max(y)]\n",
    "\n",
    "fig = plt.figure(frameon=True)\n",
    "\n",
    "plt.rc('font',**{'family':'sans-serif','sans-serif':['Helvetica']})\n",
    "plt.rc('text', usetex=True)\n",
    "\n",
    "i = NSNAP1\n",
    "while i <= NSNAP2:\n",
    "    \n",
    "    offset = i;\n",
    "    time = TSNAP1 + (i-1) * TSNAPINC\n",
    "\n",
    "    snap = load_snap(offset);\n",
    "\n",
    "    im1 = plt.imshow(vp, cmap=plt.cm.gray, interpolation='nearest', extent=extent, aspect=1)\n",
    "    plt.hold(True)\n",
    "\n",
    "    im2 = plt.imshow(snap, cmap=plt.cm.seismic, alpha=.75, interpolation='bicubic',\n",
    "                     extent=extent, vmin=-clip, vmax=clip, aspect=1)\n",
    "\n",
    "    # plot source and receiver positions\n",
    "    plt.plot(1.720,2.299,'r*', markersize=14)\n",
    "    plt.plot(2.695,2.473,'yv', markersize=10)\n",
    "    \n",
    "    plt.xlim(np.min(x),np.max(x))\n",
    "    plt.ylim(np.min(y),np.max(y))\n",
    "    \n",
    "    a = gca()\n",
    "    a.set_xticklabels(a.get_xticks(), font)\n",
    "    a.set_yticklabels(a.get_yticks(), font)\n",
    "    #plt.axis('scaled')\n",
    "    time_str = str(time)\n",
    "    #name_title = \"Pressure wavefield (time = \" + time_str[0:5] + \" s)\"\n",
    "    name_title = \"Lambs Problem\"\n",
    "    #plt.title(name_title, fontdict=font)\n",
    "    plt.ylabel('Depth [km]', fontdict=font)\n",
    "    plt.xlabel('Distance [km]', fontdict=font)\n",
    "    #plt.gca().invert_yaxis()\n",
    "    # add annotation\n",
    "    # plt.text(0.2,3.15,'Computation time: 2.1 s',fontdict=font,color='black',size=30)\n",
    "    #cbar=plt.colorbar()\n",
    "    #cbar.set_label('Vp[m/s]', fontdict=font, labelpad=1)\n",
    "    plt.tight_layout()\n",
    "    #plt.savefig('Marmousi_RTM.pdf', format='pdf')\n",
    "    name_snap = \"pics/Lamb_snap_\" + \"%0.*f\" %(0,np.fix(offset)) + \".pdf\"\n",
    "    plt.savefig(name_snap, bbox_inches='tight', format='pdf')\n",
    "    plt.hold(False)\n",
    "    #plt.show()\n",
    "    \n",
    "    i = i + DSNAP;"
   ]
  }
 ],
 "metadata": {
  "anaconda-cloud": {},
  "kernelspec": {
   "display_name": "Python [default]",
   "language": "python",
   "name": "python3"
  },
  "language_info": {
   "codemirror_mode": {
    "name": "ipython",
    "version": 3
   },
   "file_extension": ".py",
   "mimetype": "text/x-python",
   "name": "python",
   "nbconvert_exporter": "python",
   "pygments_lexer": "ipython3",
   "version": "3.5.2"
  }
 },
 "nbformat": 4,
 "nbformat_minor": 0
}
