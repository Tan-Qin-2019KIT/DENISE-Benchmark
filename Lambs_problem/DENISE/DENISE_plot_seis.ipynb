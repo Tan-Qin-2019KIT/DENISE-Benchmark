{
 "cells": [
  {
   "cell_type": "markdown",
   "metadata": {},
   "source": [
    "__Plot DENISE seismograms__\n",
    "\n",
    "Daniel Köhn \n",
    "Kiel, 02/03/2018"
   ]
  },
  {
   "cell_type": "markdown",
   "metadata": {},
   "source": [
    "__Import Libraries__"
   ]
  },
  {
   "cell_type": "code",
   "execution_count": null,
   "metadata": {},
   "outputs": [],
   "source": [
    "import matplotlib.pyplot as plt\n",
    "import matplotlib as mpl\n",
    "import numpy as np\n",
    "from matplotlib.colors import LightSource, Normalize\n",
    "from matplotlib.pyplot import gca\n",
    "from pylab import rcParams\n",
    "from matplotlib import rc\n",
    "from matplotlib.ticker import FormatStrFormatter"
   ]
  },
  {
   "cell_type": "markdown",
   "metadata": {},
   "source": [
    "__Define fonts__"
   ]
  },
  {
   "cell_type": "code",
   "execution_count": null,
   "metadata": {},
   "outputs": [],
   "source": [
    "FSize = 20\n",
    "font = {'color':  'black',\n",
    "        'weight': 'normal',\n",
    "        'size': FSize}\n",
    "mpl.rc('xtick', labelsize=FSize) \n",
    "mpl.rc('ytick', labelsize=FSize) \n",
    "rcParams['figure.figsize'] = 16, 12"
   ]
  },
  {
   "cell_type": "markdown",
   "metadata": {},
   "source": [
    "__Define parameters__"
   ]
  },
  {
   "cell_type": "code",
   "execution_count": null,
   "metadata": {},
   "outputs": [],
   "source": [
    "ROT_COMP = 0 # rotate components"
   ]
  },
  {
   "cell_type": "markdown",
   "metadata": {},
   "source": [
    "__Read seismograms (SPECFEM-2D)__"
   ]
  },
  {
   "cell_type": "code",
   "execution_count": null,
   "metadata": {},
   "outputs": [],
   "source": [
    "basename_sem = \"../NEXD-2D/lambs_meshpy/ref/\"\n",
    "state = \"AA\""
   ]
  },
  {
   "cell_type": "code",
   "execution_count": null,
   "metadata": {},
   "outputs": [],
   "source": [
    "# define file names for all components\n",
    "name_seis_1_x = basename_sem + \"S0001.\" + state + \".BXX.semd\"\n",
    "name_seis_1_z = basename_sem + \"S0001.\" + state + \".BXZ.semd\""
   ]
  },
  {
   "cell_type": "code",
   "execution_count": null,
   "metadata": {},
   "outputs": [],
   "source": [
    "# read 2-component data\n",
    "data_sem_1_x = np.genfromtxt(name_seis_1_x, dtype=None)\n",
    "data_sem_1_z = np.genfromtxt(name_seis_1_z, dtype=None)"
   ]
  },
  {
   "cell_type": "code",
   "execution_count": null,
   "metadata": {},
   "outputs": [],
   "source": [
    "# define time vector [s]\n",
    "tsem = data_sem_1_x[:,0]"
   ]
  },
  {
   "cell_type": "markdown",
   "metadata": {},
   "source": [
    "__Read seismograms (analytical solution)__"
   ]
  },
  {
   "cell_type": "code",
   "execution_count": null,
   "metadata": {},
   "outputs": [],
   "source": [
    "basename_analy = \"../NEXD-2D/lambs_meshpy/ref/\""
   ]
  },
  {
   "cell_type": "code",
   "execution_count": null,
   "metadata": {},
   "outputs": [],
   "source": [
    "# define file names for all components\n",
    "name_seis_1_x = basename_analy + \"Ux_file_ascii_rec1\"\n",
    "name_seis_1_z = basename_analy + \"Uz_file_ascii_rec1\""
   ]
  },
  {
   "cell_type": "code",
   "execution_count": null,
   "metadata": {},
   "outputs": [],
   "source": [
    "# read 2-component data\n",
    "data_analy_1_x = np.genfromtxt(name_seis_1_x, dtype=None)\n",
    "data_analy_1_z = np.genfromtxt(name_seis_1_z, dtype=None)"
   ]
  },
  {
   "cell_type": "code",
   "execution_count": null,
   "metadata": {},
   "outputs": [],
   "source": [
    "# define time vector [s]\n",
    "tanaly = data_analy_1_x[:,0]"
   ]
  },
  {
   "cell_type": "markdown",
   "metadata": {},
   "source": [
    "__Read seismograms (DENISE)__"
   ]
  },
  {
   "cell_type": "code",
   "execution_count": null,
   "metadata": {},
   "outputs": [],
   "source": [
    "basename_nexd = \"su/lamb_DH_1m/DENISE_lamb\""
   ]
  },
  {
   "cell_type": "code",
   "execution_count": null,
   "metadata": {},
   "outputs": [],
   "source": [
    "# define file names for all components\n",
    "name_seis_1_x = basename_nexd + \"_x.ascii.shot1\"\n",
    "name_seis_1_z = basename_nexd + \"_y.ascii.shot1\""
   ]
  },
  {
   "cell_type": "code",
   "execution_count": null,
   "metadata": {},
   "outputs": [],
   "source": [
    "# read 2-component data\n",
    "data_denise_1_x = np.genfromtxt(name_seis_1_x, dtype=None)\n",
    "data_denise_1_z = np.genfromtxt(name_seis_1_z, dtype=None)"
   ]
  },
  {
   "cell_type": "code",
   "execution_count": null,
   "metadata": {},
   "outputs": [],
   "source": [
    "# define time vector [s]\n",
    "# dt = 1.1e-4   # DH = 0.5 m\n",
    "dt = 2.2e-4   # DH = 1 m\n",
    "# dt = 4.4e-4   # DH = 2 m\n",
    "# dt = 8.8e-4   # DH = 4 m\n",
    "ns = len(data_denise_1_x)\n",
    "tdenise = np.arange(dt, dt*(ns+1), dt)"
   ]
  },
  {
   "cell_type": "code",
   "execution_count": null,
   "metadata": {},
   "outputs": [],
   "source": [
    "# extimate ux/uz from DENISE vx/vz solutions by numerical integration\n",
    "data_denise_1_ux = dt * np.cumsum(data_denise_1_x)\n",
    "data_denise_1_uz = dt * np.cumsum(data_denise_1_z)"
   ]
  },
  {
   "cell_type": "code",
   "execution_count": null,
   "metadata": {},
   "outputs": [],
   "source": [
    "# rotate components\n",
    "if (ROT_COMP==1):\n",
    "    angle = 10.0 * np.pi / 180.0\n",
    "    denise_1_ux_rot = np.cos(angle) * data_denise_1_ux + np.sin(angle) * data_denise_1_uz\n",
    "    denise_1_uz_rot = -np.sin(angle) * data_denise_1_ux + np.cos(angle) * data_denise_1_uz\n",
    "    \n",
    "if (ROT_COMP==0):\n",
    "    denise_1_ux_rot = data_denise_1_ux\n",
    "    denise_1_uz_rot = data_denise_1_uz"
   ]
  },
  {
   "cell_type": "code",
   "execution_count": null,
   "metadata": {},
   "outputs": [],
   "source": [
    "# shift time vector of SEM and analytical solution to t=0\n",
    "tanaly += np.abs(np.min(tanaly))\n",
    "tsem += np.abs(np.min(tsem))"
   ]
  },
  {
   "cell_type": "markdown",
   "metadata": {},
   "source": [
    "__Define SubPlot__"
   ]
  },
  {
   "cell_type": "code",
   "execution_count": null,
   "metadata": {},
   "outputs": [],
   "source": [
    "def do_plot(n, seis_sem, seis_denise, seis_analy, an, title):\n",
    "    \n",
    "    ax=plt.subplot(2, 1, n)    \n",
    "    \n",
    "    rc('font',**{'family':'sans-serif','sans-serif':['Helvetica']})\n",
    "    rc('text', usetex=True)\n",
    "    \n",
    "    plt.plot(tsem,seis_sem[:,1]/np.amax(seis_sem[:,1]))\n",
    "    plt.plot(tdenise,-seis_denise/np.amax(-seis_denise))\n",
    "    plt.plot(tanaly,seis_analy[:,1]/np.amax(seis_analy[:,1]))\n",
    "    \n",
    "    #plt.plot(tsem,seis_sem[:,1])\n",
    "    #plt.plot(tdenise,seis_denise)\n",
    "    #plt.plot(tanaly,seis_analy[:,1])\n",
    "        \n",
    "    # legend\n",
    "    plt.legend(('SPECFEM-2D', 'DENISE (DH = 1 m)', 'analytical'), shadow=True, fontsize=FSize)\n",
    "    \n",
    "    a = gca()\n",
    "    a.set_xticklabels(a.get_xticks(), font)\n",
    "    a.set_yticklabels(a.get_yticks(), font)\n",
    "    plt.axis('tight')\n",
    "    plt.title(title, fontdict=font)\n",
    "    plt.ylabel(an, fontdict=font)\n",
    "    if n!=2:\n",
    "        ax.set_xticks([])\n",
    "    if n==2:\n",
    "        plt.xlabel('Time [s]', fontdict=font)\n",
    "    plt.tight_layout()"
   ]
  },
  {
   "cell_type": "markdown",
   "metadata": {},
   "source": [
    "__Plot SubPlots__"
   ]
  },
  {
   "cell_type": "code",
   "execution_count": null,
   "metadata": {},
   "outputs": [],
   "source": [
    "plt.close('all')\n",
    "plt.figure()\n",
    "do_plot(1, data_sem_1_x, denise_1_ux_rot, data_analy_1_x, '$U_x$ []', \"Lambs problem (receiver 1)\")\n",
    "do_plot(2, data_sem_1_z, denise_1_uz_rot, data_analy_1_z, '$U_z$ []', \"\")\n",
    "filename = \"lambs_problem_receiver_1_u_DH_1m.pdf\"\n",
    "plt.savefig(filename, bbox_inches='tight', format='pdf')\n",
    "#plt.savefig(filename, bbox_inches='tight', format='png', dpi=200)\n",
    "plt.show()"
   ]
  }
 ],
 "metadata": {
  "anaconda-cloud": {},
  "kernelspec": {
   "display_name": "Python 3",
   "language": "python",
   "name": "python3"
  },
  "language_info": {
   "codemirror_mode": {
    "name": "ipython",
    "version": 3
   },
   "file_extension": ".py",
   "mimetype": "text/x-python",
   "name": "python",
   "nbconvert_exporter": "python",
   "pygments_lexer": "ipython3",
   "version": "3.6.3"
  }
 },
 "nbformat": 4,
 "nbformat_minor": 1
}
