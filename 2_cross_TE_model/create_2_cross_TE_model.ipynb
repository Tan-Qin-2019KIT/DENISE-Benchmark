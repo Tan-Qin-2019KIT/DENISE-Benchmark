{
 "cells": [
  {
   "cell_type": "markdown",
   "metadata": {},
   "source": [
    "__Create 2 cross TE model__\n",
    "\n",
    "Daniel Köhn\n",
    "Kiel, 17/08/2017"
   ]
  },
  {
   "cell_type": "markdown",
   "metadata": {},
   "source": [
    "__Import Libraries__"
   ]
  },
  {
   "cell_type": "code",
   "execution_count": null,
   "metadata": {},
   "outputs": [],
   "source": [
    "import matplotlib.pyplot as plt\n",
    "import matplotlib as mpl\n",
    "import numpy as np\n",
    "from matplotlib.colors import LightSource, Normalize\n",
    "from matplotlib.pyplot import gca\n",
    "from pylab import rcParams\n",
    "from matplotlib import rc\n",
    "from matplotlib import cm\n",
    "from matplotlib.ticker import FormatStrFormatter\n",
    "from scipy.ndimage.filters import gaussian_filter\n",
    "import matplotlib.image as mpimg\n",
    "import pickle\n",
    "#%matplotlib notebook"
   ]
  },
  {
   "cell_type": "markdown",
   "metadata": {},
   "source": [
    "__Define fonts__"
   ]
  },
  {
   "cell_type": "code",
   "execution_count": null,
   "metadata": {},
   "outputs": [],
   "source": [
    "FSize = 15\n",
    "font = {'color':  'black',\n",
    "        'weight': 'normal',\n",
    "        'size': FSize}\n",
    "mpl.rc('xtick', labelsize=FSize) \n",
    "mpl.rc('ytick', labelsize=FSize) \n",
    "rcParams['figure.figsize'] = 9, 3"
   ]
  },
  {
   "cell_type": "markdown",
   "metadata": {},
   "source": [
    "__Read 2 cross TE image__"
   ]
  },
  {
   "cell_type": "code",
   "execution_count": null,
   "metadata": {},
   "outputs": [],
   "source": [
    "fig1 = plt.figure(figsize=(12, 6))\n",
    "img=mpimg.imread('model/2_cross_TE_model.png')\n",
    "imgplot = plt.imshow(img)\n",
    "plt.show()"
   ]
  },
  {
   "cell_type": "markdown",
   "metadata": {},
   "source": [
    "__FD grid dimensions__"
   ]
  },
  {
   "cell_type": "code",
   "execution_count": null,
   "metadata": {},
   "outputs": [],
   "source": [
    "NY, NX, tmp = np.shape(img)\n",
    "tmp=None\n",
    "DH = 0.07"
   ]
  },
  {
   "cell_type": "markdown",
   "metadata": {},
   "source": [
    "__Define material parameters__"
   ]
  },
  {
   "cell_type": "code",
   "execution_count": null,
   "metadata": {},
   "outputs": [],
   "source": [
    "npara = 3  # number of model parameters\n",
    "\n",
    "# allocate memory\n",
    "R = np.ones((npara,1))\n",
    "G = np.ones((npara,1))\n",
    "B = np.ones((npara,1))\n",
    "sigma = np.ones((npara,1))\n",
    "epsilonr = np.ones((npara,1))\n",
    "\n",
    "# link colors in the image with material parameters\n",
    "R = (img[2,2][0], img[64,115][0], img[104,77][0])\n",
    "G = (img[2,2][1], img[64,115][1], img[104,77][1])\n",
    "B = (img[2,2][2], img[64,115][2], img[104,77][2])\n",
    "\n",
    "sigma = (3.5, 10.0, 0.0)\n",
    "epsilonr = (4.0, 8.0, 1.0)"
   ]
  },
  {
   "cell_type": "markdown",
   "metadata": {},
   "source": [
    "__Define first version of elastic model__"
   ]
  },
  {
   "cell_type": "code",
   "execution_count": null,
   "metadata": {},
   "outputs": [],
   "source": [
    "sigma0 = 1000.0 * np.ones((NY,NX))\n",
    "epsilonr0 = np.ones((NY,NX))\n",
    "\n",
    "# loop over image and replace colors by model parameters\n",
    "for j in range(0,NY,1):\n",
    "    \n",
    "    for i in range(0,NX,1):\n",
    "        \n",
    "        for k in range(npara):\n",
    "            \n",
    "            if img[j,i][0] == R[k] and img[j,i][1] == G[k] and  img[j,i][2] == B[k]:\n",
    "            \n",
    "                sigma0[j,i] = sigma[k]\n",
    "                epsilonr0[j,i] = epsilonr[k]                "
   ]
  },
  {
   "cell_type": "markdown",
   "metadata": {},
   "source": [
    "__Define SubPlot__"
   ]
  },
  {
   "cell_type": "code",
   "execution_count": null,
   "metadata": {},
   "outputs": [],
   "source": [
    "def do_plot(n, model, cm, an, title, vpmin, vpmax):\n",
    "    \n",
    "    ax=plt.subplot(1, 2, n)\n",
    "    \n",
    "    #plt.rc('font',**{'family':'sans-serif','sans-serif':['Helvetica']})\n",
    "    rc('font',**{'family':'sans-serif','sans-serif':['Helvetica']})\n",
    "    ## for Palatino and other serif fonts use:\n",
    "    #rc('font',**{'family':'serif','serif':['Palatino']})\n",
    "    #plt.rc('text', usetex=True)\n",
    "    rc('text', usetex=True)\n",
    "    \n",
    "    plt.imshow(model, cmap=cm, interpolation='none', extent=[DH,NX*DH,DH,NY*DH], vmin=vpmin, vmax=vpmax)\n",
    "    a = gca()\n",
    "    #a.set_xticklabels(a.get_xticks(), font)\n",
    "    #a.set_yticklabels(a.get_yticks(), font)\n",
    "    #plt.axis('scaled')\n",
    "    plt.ylabel('Depth [m]', fontdict=font)\n",
    "    plt.xlabel('Distance [m]', fontdict=font)\n",
    "    plt.gca().invert_yaxis()\n",
    "    cbar=plt.colorbar(aspect=8, pad=0.05)\n",
    "    cbar.set_label(title, fontdict=font, labelpad=10)\n",
    "    plt.text(0.8, 1.5,an,fontdict=font,color='white')\n",
    "    plt.tight_layout()"
   ]
  },
  {
   "cell_type": "markdown",
   "metadata": {},
   "source": [
    "__Plot true model__"
   ]
  },
  {
   "cell_type": "code",
   "execution_count": null,
   "metadata": {
    "scrolled": true
   },
   "outputs": [],
   "source": [
    "plt.close('all')\n",
    "plt.figure()\n",
    "do_plot(1, np.flipud(sigma0), 'seismic', '(a)', r\"$\\rm{\\sigma [mS/m]}$\", np.min(sigma0), np.max(sigma0))\n",
    "do_plot(2, np.flipud(epsilonr0), 'seismic', '(b)', r\"$\\rm{\\epsilon_r []}$\", np.min(epsilonr0), np.max(epsilonr0))\n",
    "#plt.savefig('test.png', format='png', dpi=100)\n",
    "plt.savefig('2_cross_TE_model_true.pdf', bbox_inches='tight', format='pdf')\n",
    "plt.show()"
   ]
  },
  {
   "cell_type": "markdown",
   "metadata": {},
   "source": [
    "**Define acquisition geometry**"
   ]
  },
  {
   "cell_type": "code",
   "execution_count": null,
   "metadata": {},
   "outputs": [],
   "source": [
    "# place receivers (top)\n",
    "nrec = 30\n",
    "xrec_1 = 2.0\n",
    "xrec_2 = 11.0\n",
    "drec = (xrec_2 - xrec_1) / nrec\n",
    "xrec_top = np.arange(xrec_1, xrec_2, drec)\n",
    "yrec_top = (xrec_top / xrec_top) * 2.0\n",
    "\n",
    "# place receivers (bottom)\n",
    "xrec_bot = np.arange(xrec_1, xrec_2, drec)\n",
    "yrec_bot = (xrec_bot / xrec_bot) * 10.0\n",
    "\n",
    "# place receivers (left)\n",
    "yrec_1 = 2.0\n",
    "yrec_2 = 10.0\n",
    "drec = (yrec_2 - yrec_1) / (nrec-1)\n",
    "yrec_left = np.arange(yrec_1 + drec, yrec_2, drec)\n",
    "xrec_left = (yrec_left / yrec_left) * 2.0\n",
    "\n",
    "# place receivers (right)\n",
    "yrec_right = np.arange(yrec_1, yrec_2, drec)\n",
    "xrec_right = (yrec_right / yrec_right) * 11.0\n",
    "\n",
    "xrec = np.concatenate((xrec_top, xrec_bot, xrec_left, xrec_right), axis=0)\n",
    "yrec = np.concatenate((yrec_top, yrec_bot, yrec_left, yrec_right), axis=0)\n",
    "\n",
    "# assemble vectors into an array\n",
    "tmp = np.zeros(xrec.size, dtype=[('var1', float), ('var2', float)])\n",
    "tmp['var1'] = xrec\n",
    "tmp['var2'] = yrec\n",
    "\n",
    "# write receiver positions to file\n",
    "np.savetxt('receiver_2_cross_TE.dat', tmp, fmt='%4.2f %4.2f')"
   ]
  },
  {
   "cell_type": "code",
   "execution_count": null,
   "metadata": {},
   "outputs": [],
   "source": [
    "# place sources (top)\n",
    "nrec = 10\n",
    "xrec_1 = 2.0\n",
    "xrec_2 = 11.0\n",
    "drec = (xrec_2 - xrec_1) / nrec\n",
    "xsrc_top = np.arange(xrec_1, xrec_2, drec)\n",
    "ysrc_top = (xsrc_top / xsrc_top) * 2.0\n",
    "\n",
    "# place sources (bottom)\n",
    "xsrc_bot = np.arange(xrec_1, xrec_2, drec)\n",
    "ysrc_bot = (xsrc_bot / xsrc_bot) * 10.0\n",
    "\n",
    "# place sources (left)\n",
    "yrec_1 = 2.0\n",
    "yrec_2 = 10.0\n",
    "drec = (yrec_2 - yrec_1) / nrec\n",
    "ysrc_left = np.arange(yrec_1 + drec, yrec_2, drec)\n",
    "xsrc_left = (ysrc_left / ysrc_left) * 2.0\n",
    "\n",
    "# place sources (right)\n",
    "ysrc_right = np.arange(yrec_1, yrec_2 + drec, drec)\n",
    "xsrc_right = (ysrc_right / ysrc_right) * 11.0\n",
    "\n",
    "xsrc = np.concatenate((xsrc_top, xsrc_bot, xsrc_left, xsrc_right), axis=0)\n",
    "ysrc = np.concatenate((ysrc_top, ysrc_bot, ysrc_left, ysrc_right), axis=0)\n",
    "\n",
    "nshot = 40\n",
    "\n",
    "# assemble vectors into an array\n",
    "tmp1 = np.zeros(nshot, dtype=[('var1', float), ('var2', float), ('var3', float), ('var4', float), \n",
    "                                  ('var5', float), ('var6', float), ('var7', float), ('var8', float)])\n",
    "tmp1['var1'] = xsrc\n",
    "tmp1['var2'] = 0.0 * (xsrc / xsrc)     # z-coordinate = 0 due to 2D code\n",
    "tmp1['var3'] = ysrc\n",
    "tmp1['var4'] = 0.0 * (xsrc / xsrc)     # time delay\n",
    "tmp1['var5'] = 10.0 * (xsrc / xsrc)    # center frequency of source wavelet\n",
    "tmp1['var6'] = 1.0 * (xsrc / xsrc)     # amplitude of source wavelet\n",
    "tmp1['var7'] = 0.0 * (xsrc / xsrc)     # angle of rotated source\n",
    "tmp1['var8'] = 3 * (xsrc / xsrc)       # source type = 3 (vertical impact source)\n",
    "\n",
    "\n",
    "# write receiver positions to file\n",
    "np.savetxt('source_2_cross_TE.dat', tmp1, fmt='%4.2f %4.2f %4.2f %4.2f %4.2f %4.2f %4.2f %4.2f')"
   ]
  },
  {
   "cell_type": "markdown",
   "metadata": {},
   "source": [
    "__Plot model with acquisition geometry__"
   ]
  },
  {
   "cell_type": "code",
   "execution_count": null,
   "metadata": {
    "scrolled": false
   },
   "outputs": [],
   "source": [
    "plt.figure(figsize=(7, 6))\n",
    "\n",
    "plt.imshow(np.flipud(epsilonr0), cmap='seismic', interpolation='none', extent=[DH,NX*DH,DH,NY*DH])\n",
    "plt.hold(True)\n",
    "plt.plot(xrec,yrec,'cv',markersize=5)\n",
    "plt.plot(xsrc,ysrc,'r*',markersize=10)\n",
    "\n",
    "a = gca()\n",
    "a.set_xticklabels(a.get_xticks(), font)\n",
    "a.set_yticklabels(a.get_yticks(), font)\n",
    "\n",
    "plt.ylabel('Depth [m]', fontdict=font)\n",
    "plt.xlabel('Distance [m]', fontdict=font)\n",
    "plt.gca().invert_yaxis()\n",
    "plt.axis('tight')\n",
    "cbar=plt.colorbar(aspect=16, pad=0.01)\n",
    "cbar.set_label(r\"$\\rm{\\epsilon_r []}$\", fontdict=font, labelpad=10)\n",
    "plt.tight_layout()\n",
    "#plt.savefig('test.png', format='png', dpi=100)\n",
    "plt.savefig('2_cross_TE_acq.pdf', bbox_inches='tight', format='pdf')\n",
    "plt.show()"
   ]
  },
  {
   "cell_type": "markdown",
   "metadata": {},
   "source": [
    "__Compute true material parameters__"
   ]
  },
  {
   "cell_type": "code",
   "execution_count": null,
   "metadata": {},
   "outputs": [],
   "source": [
    "# convert relative permittivity to permittivity\n",
    "epsilon00 = 8.85e-12\n",
    "epsilon0 = epsilonr0 * epsilon00\n",
    "\n",
    "sigma0 = sigma0 * 1e-3"
   ]
  },
  {
   "cell_type": "markdown",
   "metadata": {},
   "source": [
    "**Write models to file**"
   ]
  },
  {
   "cell_type": "code",
   "execution_count": null,
   "metadata": {},
   "outputs": [],
   "source": [
    "# permittivity\n",
    "name_taper = \"2_cross_TE_true.eps\"\n",
    "f = open (name_taper, mode='wb')\n",
    "data_type = np.dtype ('float32').newbyteorder ('<')\n",
    "epsilon0 = np.array(epsilon0, dtype=data_type)\n",
    "epsilon0 = np.rot90(epsilon0,1)\n",
    "epsilon0 = np.flipud(epsilon0)\n",
    "epsilon0.tofile(f)\n",
    "\n",
    "# conductivity\n",
    "name_taper = \"2_cross_TE_true.sig\"\n",
    "f = open (name_taper, mode='wb')\n",
    "data_type = np.dtype ('float32').newbyteorder ('<')\n",
    "sigma0 = np.array(sigma0, dtype=data_type)\n",
    "sigma0 = np.rot90(sigma0,1)\n",
    "sigma0 = np.flipud(sigma0)\n",
    "sigma0.tofile(f)"
   ]
  },
  {
   "cell_type": "code",
   "execution_count": null,
   "metadata": {
    "collapsed": true
   },
   "outputs": [],
   "source": []
  }
 ],
 "metadata": {
  "anaconda-cloud": {},
  "kernelspec": {
   "display_name": "Python 2",
   "language": "python",
   "name": "python2"
  },
  "language_info": {
   "codemirror_mode": {
    "name": "ipython",
    "version": 2
   },
   "file_extension": ".py",
   "mimetype": "text/x-python",
   "name": "python",
   "nbconvert_exporter": "python",
   "pygments_lexer": "ipython2",
   "version": "2.7.13"
  }
 },
 "nbformat": 4,
 "nbformat_minor": 1
}
