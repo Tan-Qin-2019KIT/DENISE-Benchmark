{
 "cells": [
  {
   "cell_type": "markdown",
   "metadata": {},
   "source": [
    "**Calculate TD shot gather from FD modelling results**<br />\n",
    "Daniel Köhn<br />\n",
    "Kiel, 20.09.2017"
   ]
  },
  {
   "cell_type": "markdown",
   "metadata": {},
   "source": [
    "**Import necessary packages**"
   ]
  },
  {
   "cell_type": "code",
   "execution_count": null,
   "metadata": {
    "collapsed": true
   },
   "outputs": [],
   "source": [
    "import numpy as np\n",
    "import matplotlib as plt\n",
    "import matplotlib.pyplot as plt\n",
    "from matplotlib.pyplot import gca\n",
    "import matplotlib as mpl\n",
    "from pylab import rcParams\n",
    "from matplotlib import rc\n",
    "import matplotlib.ticker as mtick\n",
    "from scipy import interpolate\n",
    "from scipy import signal\n",
    "#%matplotlib notebook"
   ]
  },
  {
   "cell_type": "markdown",
   "metadata": {},
   "source": [
    "**Define parameters for data visualization**"
   ]
  },
  {
   "cell_type": "code",
   "execution_count": null,
   "metadata": {
    "collapsed": true
   },
   "outputs": [],
   "source": [
    "clip = 1e-3   # data clip (Blackman-Harris)\n",
    "nsrc = 1      # number of shots\n",
    "ntr = 117     # number of receivers\n",
    "shotno = 1    # extract FDFD data for shot shotno\n",
    "\n",
    "# number of frequencies nf and frequency interval df\n",
    "FC_low = 1e6\n",
    "FC_high = 800e6\n",
    "\n",
    "nf = 400\n",
    "df = (FC_high - FC_low) / (nf-1)\n",
    "nfnsrc = nf * nsrc\n",
    "\n",
    "# TD parameters\n",
    "TmaxTD = 150e-9       # maximum time TD\n",
    "TmaxFD = 0.25 / df    # maximum time FD\n",
    "dt = TmaxFD / nf      # time sampling FD\n",
    "\n",
    "# maximum time sample of FD2TD corresponding to TmaxTD\n",
    "nmaxFD = np.int(TmaxTD / dt)\n",
    "\n",
    "# define time samples in time and frequency domain\n",
    "tFD = np.arange(0.0, TmaxTD, dt)\n",
    "offset = np.arange(0, ntr, 1)"
   ]
  },
  {
   "cell_type": "markdown",
   "metadata": {},
   "source": [
    "**Font properties**"
   ]
  },
  {
   "cell_type": "code",
   "execution_count": null,
   "metadata": {
    "collapsed": true
   },
   "outputs": [],
   "source": [
    "FSize = 15\n",
    "font = {'color':  'black',\n",
    "        'weight': 'bold',\n",
    "        'size': FSize}\n",
    "mpl.rc('xtick', labelsize=FSize) \n",
    "mpl.rc('ytick', labelsize=FSize) \n",
    "rcParams['figure.figsize'] = 10, 10"
   ]
  },
  {
   "cell_type": "markdown",
   "metadata": {},
   "source": [
    "__Time Damping__"
   ]
  },
  {
   "cell_type": "code",
   "execution_count": null,
   "metadata": {
    "collapsed": true
   },
   "outputs": [],
   "source": [
    "S = 0.0"
   ]
  },
  {
   "cell_type": "markdown",
   "metadata": {},
   "source": [
    "**Read 2 cross TE-mode FD data**"
   ]
  },
  {
   "cell_type": "code",
   "execution_count": null,
   "metadata": {
    "collapsed": true
   },
   "outputs": [],
   "source": [
    "#name_FDFD = \"FD2TD_seis_blackmanharris/2_cross_TE_p_stage_1_true_blackmanharris.bin\"\n",
    "name_FDFD = \"FD2TD_seis_ricker1/2_cross_TE_p_stage_1_true_ricker.bin\"\n",
    "f = open (name_FDFD)\n",
    "data_type = np.dtype ('float32').newbyteorder ('<')\n",
    "data_FDFD = np.fromfile(f, dtype=data_type)\n",
    "data_FDFD = data_FDFD.reshape(nf*nsrc,2*ntr)\n",
    "data_FDFD = np.transpose(data_FDFD)\n",
    "data_FDFD = np.flipud(data_FDFD)"
   ]
  },
  {
   "cell_type": "markdown",
   "metadata": {},
   "source": [
    "**Extract FD data for shot shotno**"
   ]
  },
  {
   "cell_type": "code",
   "execution_count": null,
   "metadata": {
    "collapsed": true
   },
   "outputs": [],
   "source": [
    "FD_real = data_FDFD[0:2*ntr-1:2,shotno-1:nfnsrc:nsrc]\n",
    "FD_imag = data_FDFD[1:2*ntr:2,shotno-1:nfnsrc:nsrc]\n",
    "data_FDFD = None\n",
    "\n",
    "# taper FD data\n",
    "window = signal.tukey(nf,1)\n",
    "\n",
    "for i in range (ntr):\n",
    "    FD_real[i,:] *= window\n",
    "    FD_imag[i,:] *= window"
   ]
  },
  {
   "cell_type": "code",
   "execution_count": null,
   "metadata": {
    "collapsed": true
   },
   "outputs": [],
   "source": [
    "# assemble complex data\n",
    "FDFD = FD_real + 1j*FD_imag\n",
    "FD_real = None\n",
    "FD_imag = None\n",
    "FDFD = np.transpose(FDFD)\n",
    "\n",
    "tmp1 = np.concatenate((FDFD, np.zeros((nf, ntr)), np.zeros((nf, ntr)), np.flipud(FDFD)))\n",
    "#tmp1 = np.concatenate((np.zeros((1, ntr)),FDFD,np.flipud(FDFD)))\n",
    "FDFD = None\n",
    "FDFD = tmp1"
   ]
  },
  {
   "cell_type": "code",
   "execution_count": null,
   "metadata": {
    "collapsed": true
   },
   "outputs": [],
   "source": [
    "#plt.imshow(np.real(FDFD))\n",
    "#plt.show()"
   ]
  },
  {
   "cell_type": "markdown",
   "metadata": {},
   "source": [
    "**IFFT of FD data**"
   ]
  },
  {
   "cell_type": "code",
   "execution_count": null,
   "metadata": {
    "collapsed": true
   },
   "outputs": [],
   "source": [
    "# transformation from FD to TD\n",
    "FD2TD = np.fft.ifft(FDFD,axis=0)\n",
    "FD2TD = np.real(FD2TD)\n",
    "tmp1 = None"
   ]
  },
  {
   "cell_type": "markdown",
   "metadata": {},
   "source": [
    "**Extract FD2TD up to TmaxTD and resample FD2TD from dtFD to dt**"
   ]
  },
  {
   "cell_type": "code",
   "execution_count": null,
   "metadata": {
    "collapsed": true
   },
   "outputs": [],
   "source": [
    "# extract FD2TD data up to TmaxTD\n",
    "tmp1 = FD2TD[1:nmaxFD,:]\n",
    "FD2DTD = None\n",
    "\n",
    "# clean memory\n",
    "tmp = None"
   ]
  },
  {
   "cell_type": "markdown",
   "metadata": {},
   "source": [
    "**Normalize data**"
   ]
  },
  {
   "cell_type": "code",
   "execution_count": null,
   "metadata": {
    "collapsed": true
   },
   "outputs": [],
   "source": [
    "#max_TD = np.max(traces)\n",
    "max_FD = np.max(tmp1)\n",
    "tmp1 = tmp1 / max_FD\n",
    "FD2TD = np.flipud(tmp1)\n",
    "\n",
    "tmp1 = None"
   ]
  },
  {
   "cell_type": "markdown",
   "metadata": {},
   "source": [
    "__Shuffle 2-cross TE model data__"
   ]
  },
  {
   "cell_type": "code",
   "execution_count": null,
   "metadata": {
    "collapsed": true
   },
   "outputs": [],
   "source": [
    "tmp1 = FD2TD[:,0:29]\n",
    "tmp2 = FD2TD[:,30:57]\n",
    "tmp3 = FD2TD[:,58:87]\n",
    "tmp4 = FD2TD[:,88:117]\n",
    "\n",
    "FD2TD = None\n",
    "\n",
    "tmp = np.concatenate((tmp1.T, tmp4.T, np.flipud(tmp2.T), np.flipud(tmp3.T)))\n",
    "FD2TD = tmp.T\n",
    "\n",
    "tmp = None\n",
    "tmp1 = None\n",
    "tmp2 = None\n",
    "tmp3 = None\n",
    "tmp4 = None"
   ]
  },
  {
   "cell_type": "markdown",
   "metadata": {},
   "source": [
    "__Load TDTE modelling results__"
   ]
  },
  {
   "cell_type": "code",
   "execution_count": null,
   "metadata": {
    "collapsed": true
   },
   "outputs": [],
   "source": [
    "TD_data = np.genfromtxt(\"TD_code/src_nr_1_100Mhz.txt\", dtype=None)\n",
    "TD_data = np.flipud(TD_data)"
   ]
  },
  {
   "cell_type": "code",
   "execution_count": null,
   "metadata": {},
   "outputs": [],
   "source": [
    "tmp1 = TD_data[:,0:29]\n",
    "tmp2 = TD_data[:,30:60]\n",
    "tmp3 = TD_data[:,61:88]\n",
    "tmp4 = TD_data[:,89:117]\n",
    "\n",
    "TD_data = None\n",
    "\n",
    "tmp = np.concatenate((np.flipud(tmp2.T), np.flipud(tmp3.T), tmp1.T, tmp4.T))\n",
    "TD_data = tmp.T\n",
    "\n",
    "# calculate 1st temporal derivative \n",
    "TD_data = np.diff(TD_data,axis=0)\n",
    "\n",
    "TD_data = TD_data / np.amax(TD_data)\n",
    "\n",
    "#tmp = None\n",
    "#tmp1 = None\n",
    "#tmp2 = None\n",
    "#tmp3 = None\n",
    "#tmp4 = None"
   ]
  },
  {
   "cell_type": "code",
   "execution_count": null,
   "metadata": {},
   "outputs": [],
   "source": [
    "#plt.imshow(tmp4, vmin=-clip, vmax=clip, cmap='gray', aspect=1e-3)\n",
    "#plt.show()"
   ]
  },
  {
   "cell_type": "markdown",
   "metadata": {},
   "source": [
    "**Plot shot gather**"
   ]
  },
  {
   "cell_type": "code",
   "execution_count": null,
   "metadata": {
    "collapsed": true
   },
   "outputs": [],
   "source": [
    "def do_plot(n, model, cm, an, title, clip):\n",
    "    \n",
    "    ax=plt.subplot(1,2,n)\n",
    "    \n",
    "    extent = [np.min(offset), np.max(offset), 0.0, dt * nmaxFD * 1e9]\n",
    "\n",
    "    plt.rc('font',**{'family':'sans-serif','sans-serif':['Helvetica']})\n",
    "    plt.rc('text', usetex=True)\n",
    "\n",
    "    im = plt.imshow(model, cmap=cm, interpolation='nearest', extent=extent, vmin=-clip, vmax=clip, aspect=0.5)\n",
    "\n",
    "    a = gca()\n",
    "    a.set_xticklabels(a.get_xticks(), font)\n",
    "    a.set_yticklabels(a.get_yticks(), font)\n",
    "    \n",
    "    a.yaxis.set_major_formatter(mtick.FormatStrFormatter('%.0d'))\n",
    "    a.xaxis.set_major_formatter(mtick.FormatStrFormatter('%.0d'))\n",
    "\n",
    "    # Add the grid\n",
    "    ax.grid(which='major', axis='both', linestyle='-')\n",
    "    \n",
    "    plt.title(title, fontdict=font)\n",
    "    if n==1:\n",
    "        plt.ylabel('Time [ns]', fontdict=font)\n",
    "    if n==2:\n",
    "        ax.set_yticklabels([])\n",
    "    plt.xlabel('Trace no.', fontdict=font)\n",
    "    plt.gca().invert_yaxis()"
   ]
  },
  {
   "cell_type": "code",
   "execution_count": null,
   "metadata": {},
   "outputs": [],
   "source": [
    "plt.close('all')\n",
    "plt.figure()\n",
    "do_plot(1, FD2TD, 'gray', ' ', r\"GERMAINE FD2TD\", clip)\n",
    "do_plot(2, TD_data, 'gray', ' ', r\"TD (Ricker)\", clip)\n",
    "plt.tight_layout()\n",
    "output_file = \"test.pdf\"\n",
    "plt.savefig(output_file, bbox_inches='tight', format='pdf')\n",
    "plt.show()"
   ]
  },
  {
   "cell_type": "code",
   "execution_count": null,
   "metadata": {
    "collapsed": true
   },
   "outputs": [],
   "source": []
  }
 ],
 "metadata": {
  "anaconda-cloud": {},
  "kernelspec": {
   "display_name": "Python 2",
   "language": "python",
   "name": "python2"
  },
  "language_info": {
   "codemirror_mode": {
    "name": "ipython",
    "version": 2
   },
   "file_extension": ".py",
   "mimetype": "text/x-python",
   "name": "python",
   "nbconvert_exporter": "python",
   "pygments_lexer": "ipython2",
   "version": "2.7.13"
  }
 },
 "nbformat": 4,
 "nbformat_minor": 2
}
