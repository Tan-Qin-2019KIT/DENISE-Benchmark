{
 "cells": [
  {
   "cell_type": "markdown",
   "metadata": {},
   "source": [
    "__Compare TE FDFD solution with analytical solution__\n",
    "\n",
    "Daniel Köhn \n",
    "Kiel, 01/09/2017"
   ]
  },
  {
   "cell_type": "markdown",
   "metadata": {},
   "source": [
    "__Import Libraries__"
   ]
  },
  {
   "cell_type": "code",
   "execution_count": null,
   "metadata": {
    "collapsed": true
   },
   "outputs": [],
   "source": [
    "import matplotlib.pyplot as plt\n",
    "import matplotlib as mpl\n",
    "import numpy as np\n",
    "from matplotlib.colors import LightSource, Normalize\n",
    "from matplotlib.pyplot import gca\n",
    "from pylab import rcParams\n",
    "from matplotlib import rc\n",
    "from copy import copy\n",
    "import matplotlib.ticker as mtick\n",
    "import scipy.special as sp\n",
    "from scipy import signal\n",
    "from mpl_toolkits.axes_grid1 import make_axes_locatable\n",
    "import pickle"
   ]
  },
  {
   "cell_type": "markdown",
   "metadata": {},
   "source": [
    "__Define fonts__"
   ]
  },
  {
   "cell_type": "code",
   "execution_count": null,
   "metadata": {
    "collapsed": true
   },
   "outputs": [],
   "source": [
    "FSize = 15\n",
    "font = {'color':  'black',\n",
    "        'weight': 'normal',\n",
    "        'size': FSize,\n",
    "        'family': 'serif'} \n",
    "rcParams['figure.figsize'] = 10, 10"
   ]
  },
  {
   "cell_type": "markdown",
   "metadata": {},
   "source": [
    "__Define Acquisition geometry__"
   ]
  },
  {
   "cell_type": "markdown",
   "metadata": {},
   "source": [
    "Define source positions"
   ]
  },
  {
   "cell_type": "code",
   "execution_count": null,
   "metadata": {
    "collapsed": true
   },
   "outputs": [],
   "source": [
    "XSRC = 2.0 + 1e-2\n",
    "YSRC = 2.0 + 1e-2"
   ]
  },
  {
   "cell_type": "markdown",
   "metadata": {},
   "source": [
    "Read receiver positions"
   ]
  },
  {
   "cell_type": "code",
   "execution_count": null,
   "metadata": {
    "collapsed": false
   },
   "outputs": [],
   "source": [
    "rec_pos = np.genfromtxt(\"../receiver/receiver_2_cross_TE.dat\", dtype=None)\n",
    "\n",
    "XREC = rec_pos[:,0]\n",
    "YREC = rec_pos[:,1]"
   ]
  },
  {
   "cell_type": "markdown",
   "metadata": {},
   "source": [
    "__Read or define source wavelet__"
   ]
  },
  {
   "cell_type": "code",
   "execution_count": null,
   "metadata": {
    "collapsed": true
   },
   "outputs": [],
   "source": [
    "# READ_STF = 0 - use spike wavelet\n",
    "# READ_STF = 1 - read external wavelet from ASCII file\n",
    "# READ_STF = 2 - define source wavelet in Jupyter notebook\n",
    "READ_STF = 2\n",
    "\n",
    "dt_stf = 1.5e-10   # temporal sampling rate [s]\n",
    "Tmax = 150e-9      # maximum recording time [s]\n",
    "fc = 100e6         # Ricker wavelet centre frequency [Hz]"
   ]
  },
  {
   "cell_type": "markdown",
   "metadata": {},
   "source": [
    "__Calculate source-receiver distance r__"
   ]
  },
  {
   "cell_type": "code",
   "execution_count": null,
   "metadata": {
    "collapsed": true
   },
   "outputs": [],
   "source": [
    "r = np.sqrt((XREC-XSRC)**2+(YREC-YSRC)**2)\n",
    "ntr = np.size(r,0)"
   ]
  },
  {
   "cell_type": "markdown",
   "metadata": {},
   "source": [
    "**Analytical solution for homogeneous acoustic full space at each receiver position**"
   ]
  },
  {
   "cell_type": "code",
   "execution_count": null,
   "metadata": {
    "collapsed": false
   },
   "outputs": [],
   "source": [
    "def analytical_solution(w,mu0,eps,sigma,r):\n",
    "\n",
    "    # define effective permittivity\n",
    "    epse = eps + (((0+1j)*sigma) / w)\n",
    "\n",
    "    k = w * np.sqrt(mu0 * epse)        # complex wavenumber\n",
    "\n",
    "    # analytical solution\n",
    "    p_analy = -w * mu0 * sp.hankel1(0,(r*k)) / 4.0\n",
    "    \n",
    "    FD_real = np.real(p_analy)\n",
    "    FD_imag = np.imag(p_analy)\n",
    "    \n",
    "    return FD_real, FD_imag"
   ]
  },
  {
   "cell_type": "markdown",
   "metadata": {},
   "source": [
    "__Calculate analytical solution for discrete frequencies__"
   ]
  },
  {
   "cell_type": "code",
   "execution_count": null,
   "metadata": {
    "collapsed": false
   },
   "outputs": [],
   "source": [
    "# define material parameters \n",
    "mu0 = 4 * np.pi * 1e-7             # magnetic permeability\n",
    "eps = 3.54e-11                     # permittivity\n",
    "sigma = 3e-3                       # conductivity\n",
    "\n",
    "# define frequencies\n",
    "FC_low = 1e6\n",
    "FC_high = 200e6\n",
    "\n",
    "nf = 400\n",
    "df = (FC_high - FC_low) / (nf-1)\n",
    "\n",
    "# TD parameters\n",
    "TmaxTD = 150e-9       # maximum time TD\n",
    "TmaxFD = 0.25 / df     # maximum time FD\n",
    "dt = TmaxFD / nf      # time sampling FD\n",
    "\n",
    "# maximum time sample of FD2TD corresponding to TmaxTD\n",
    "nmaxFD = np.int(TmaxTD / dt)\n",
    "\n",
    "FDFD_real  = np.zeros((nf, ntr))\n",
    "FDFD_imag  = np.zeros((nf, ntr))\n",
    "\n",
    "f = FC_low\n",
    "for i in range (nf):\n",
    "\n",
    "    w = 2.0 * np.pi * f\n",
    "    tmp_real, tmp_imag = analytical_solution(w,mu0,eps,sigma,r)\n",
    "    \n",
    "    for j in range (ntr):\n",
    "            FDFD_real[i,j] = tmp_real[j]\n",
    "            FDFD_imag[i,j] = tmp_imag[j]\n",
    "    f +=df"
   ]
  },
  {
   "cell_type": "code",
   "execution_count": null,
   "metadata": {
    "collapsed": false
   },
   "outputs": [],
   "source": [
    "# Read source wavelet\n",
    "if(READ_STF==1):\n",
    "    \n",
    "    wavelet = np.genfromtxt(\"../TD_seismograms/source.txt\", dtype=None)\n",
    "    nt_stf = np.size(wavelet,0)\n",
    "    dt_stf = 0.1e-9\n",
    "\n",
    "if(READ_STF==2):        \n",
    "    \n",
    "    nt_stf = np.int(Tmax / dt_stf)\n",
    "    \n",
    "t_stf = np.linspace(0, dt_stf*nt_stf, nt_stf, endpoint=True)\n",
    "\n",
    "# define Ricker wavelet\n",
    "if(READ_STF==2):        \n",
    "    \n",
    "    ts = 1.0 / fc\n",
    "    tau = np.pi * (t_stf - 1.5 * ts) / (1.5 * ts)\n",
    "    wavelet = (1.0 - 4.0 * tau * tau) * np.exp(-2.0 * tau * tau)\n",
    "    \n",
    "# plot wavelet\n",
    "#if(READ_STF):\n",
    "    #plt.plot(t_stf*1e9,wavelet)\n",
    "    #plt.show()"
   ]
  },
  {
   "cell_type": "code",
   "execution_count": null,
   "metadata": {
    "collapsed": false
   },
   "outputs": [],
   "source": [
    "if(READ_STF):\n",
    "\n",
    "    # Calculate DFT of time-domain Ricker wavelet\n",
    "    # -------------------------------------------\n",
    "    stf_real  = np.zeros((nf,1))\n",
    "    stf_imag  = np.zeros((nf,1))\n",
    "\n",
    "    f = FC_low\n",
    "    for i in range (nf):\n",
    "\n",
    "        for j in range (nt_stf):\n",
    "            \n",
    "            stf_real[i] += wavelet[j] * np.cos(2.0 * t_stf[j] * f * np.pi) * dt_stf;\n",
    "            stf_imag[i] += wavelet[j] * np.sin(2.0 * t_stf[j] * f * np.pi) * dt_stf;\n",
    "        \n",
    "        f +=df\n",
    "    \n",
    "    FDFD_stf_real = np.zeros((nf, ntr))\n",
    "    FDFD_stf_imag = np.zeros((nf, ntr))\n",
    "    \n",
    "    # assemble complex data\n",
    "    #window_stf = signal.tukey(nf,2)\n",
    "    \n",
    "    #for i in range (nf):\n",
    "    #    stf_real[i] *= window_stf[i]\n",
    "    #    stf_imag[i] *= window_stf[i]\n",
    "    \n",
    "    # copy STF FD data into 2D matrix\n",
    "    for i in range (nf):\n",
    "        for j in range (ntr):\n",
    "        \n",
    "            FDFD_stf_real[i,j] = stf_real[i]\n",
    "            FDFD_stf_imag[i,j] = stf_imag[i]\n",
    "\n",
    "    # assemble complex data\n",
    "    FDFD_stf = FDFD_stf_real + 1j*FDFD_stf_imag\n",
    "    \n",
    "    #tmp_stf = stf_real + 1j*stf_imag\n",
    "    #FD_wavelet = np.concatenate((tmp_stf, np.zeros((nf, 1)), np.zeros((nf, 1)), np.flipud(tmp_stf)))\n",
    "    \n",
    "    # IFFT source wavelet\n",
    "    #TD_wavelet = np.fft.ifft(FD_wavelet)\n",
    "    #TD_wavelet = np.real(TD_wavelet)\n",
    "    #TD_wavelet_final = TD_wavelet[1:nt_stf]\n",
    "    \n",
    "    #plt.imshow(np.real(FDFD_stf),aspect=0.5)\n",
    "    #plt.show()"
   ]
  },
  {
   "cell_type": "code",
   "execution_count": null,
   "metadata": {
    "collapsed": false
   },
   "outputs": [],
   "source": [
    "# taper FD data\n",
    "window = signal.tukey(nf,2)\n",
    "\n",
    "for i in range (ntr):\n",
    "    FDFD_real[:,i] *= window\n",
    "    FDFD_imag[:,i] *= window\n",
    "    \n",
    "# assemble complex data\n",
    "FDFD = FDFD_real + 1j*FDFD_imag\n",
    "FDFD_real = None\n",
    "FDFD_imag = None\n",
    "#FDFD = np.transpose(FDFD)\n",
    "\n",
    "# convole spike data with source wavelet\n",
    "tmp = FDFD * FDFD_stf\n",
    "\n",
    "FDFD = None\n",
    "FDFD = tmp\n",
    "\n",
    "tmp1 = np.concatenate((FDFD, np.zeros((nf, ntr)), np.zeros((nf, ntr)), np.flipud(FDFD)))\n",
    "#tmp1 = np.concatenate((FDFD, np.zeros((nf, ntr))))\n",
    "FDFD = None\n",
    "FDFD = tmp1"
   ]
  },
  {
   "cell_type": "code",
   "execution_count": null,
   "metadata": {
    "collapsed": false
   },
   "outputs": [],
   "source": [
    "#plt.imshow(np.real(FDFD), aspect=0.5)\n",
    "#plt.show()"
   ]
  },
  {
   "cell_type": "markdown",
   "metadata": {},
   "source": [
    "__IFFT data__"
   ]
  },
  {
   "cell_type": "code",
   "execution_count": null,
   "metadata": {
    "collapsed": true
   },
   "outputs": [],
   "source": [
    "# transformation from FD to TD\n",
    "FD2TD = np.fft.ifft(FDFD,axis=0)\n",
    "FD2TD = np.real(FD2TD)\n",
    "tmp1 = None\n",
    "\n",
    "# extract FD2TD data up to TmaxTD\n",
    "tmp1 = FD2TD[1:nmaxFD,:]\n",
    "FD2DTD = None\n",
    "\n",
    "# clean memory\n",
    "tmp = None"
   ]
  },
  {
   "cell_type": "code",
   "execution_count": null,
   "metadata": {
    "collapsed": false
   },
   "outputs": [],
   "source": [
    "clip=2e-2\n",
    "plt.imshow(tmp1/np.amax(tmp1),cmap='gray',vmin=-clip, vmax=clip, extent = [1,117,np.max(t_stf*1e9),np.min(t_stf*1e9)])\n",
    "plt.show()"
   ]
  },
  {
   "cell_type": "code",
   "execution_count": null,
   "metadata": {
    "collapsed": true
   },
   "outputs": [],
   "source": [
    "np.savetxt('analytical_hom.txt', tmp1)"
   ]
  }
 ],
 "metadata": {
  "anaconda-cloud": {},
  "kernelspec": {
   "display_name": "Python [conda root]",
   "language": "python",
   "name": "conda-root-py"
  },
  "language_info": {
   "codemirror_mode": {
    "name": "ipython",
    "version": 3
   },
   "file_extension": ".py",
   "mimetype": "text/x-python",
   "name": "python",
   "nbconvert_exporter": "python",
   "pygments_lexer": "ipython3",
   "version": "3.5.2"
  }
 },
 "nbformat": 4,
 "nbformat_minor": 1
}
