{
 "cells": [
  {
   "cell_type": "markdown",
   "metadata": {},
   "source": [
    "__Compare TE FDFD solution with analytical solution__\n",
    "\n",
    "Daniel Köhn \n",
    "Kiel, 01/09/2017"
   ]
  },
  {
   "cell_type": "markdown",
   "metadata": {},
   "source": [
    "__Import Libraries__"
   ]
  },
  {
   "cell_type": "code",
   "execution_count": null,
   "metadata": {
    "collapsed": true
   },
   "outputs": [],
   "source": [
    "import matplotlib.pyplot as plt\n",
    "import matplotlib as mpl\n",
    "import numpy as np\n",
    "from matplotlib.colors import LightSource, Normalize\n",
    "from matplotlib.pyplot import gca\n",
    "from pylab import rcParams\n",
    "from matplotlib import rc\n",
    "from copy import copy\n",
    "import matplotlib.ticker as mtick\n",
    "import scipy.special as sp\n",
    "from mpl_toolkits.axes_grid1 import make_axes_locatable\n",
    "import pickle"
   ]
  },
  {
   "cell_type": "markdown",
   "metadata": {},
   "source": [
    "__FD grid dimensions__"
   ]
  },
  {
   "cell_type": "code",
   "execution_count": null,
   "metadata": {
    "collapsed": true
   },
   "outputs": [],
   "source": [
    "DH = 0.07;\n",
    "NX = 180;\n",
    "NY = 180;"
   ]
  },
  {
   "cell_type": "markdown",
   "metadata": {},
   "source": [
    "__Define fonts__"
   ]
  },
  {
   "cell_type": "code",
   "execution_count": null,
   "metadata": {
    "collapsed": true
   },
   "outputs": [],
   "source": [
    "FSize = 15\n",
    "font = {'color':  'black',\n",
    "        'weight': 'normal',\n",
    "        'size': FSize,\n",
    "        'family': 'serif'} \n",
    "rcParams['figure.figsize'] = 10, 10"
   ]
  },
  {
   "cell_type": "markdown",
   "metadata": {},
   "source": [
    "__Read true P-wave velocity model__"
   ]
  },
  {
   "cell_type": "code",
   "execution_count": null,
   "metadata": {
    "collapsed": true
   },
   "outputs": [],
   "source": [
    "f1 = open ('../snap/2_cross_TE_shot_1_50MHz.p')\n",
    "data_type = np.dtype ('float32').newbyteorder ('<')\n",
    "p = np.fromfile (f1, dtype=data_type)\n",
    "p = p.reshape(NX,NY)\n",
    "p = np.transpose(p)\n",
    "p = np.flipud(p)\n",
    "p = p / np.amax(p)"
   ]
  },
  {
   "cell_type": "markdown",
   "metadata": {},
   "source": [
    "__Define Axis__"
   ]
  },
  {
   "cell_type": "code",
   "execution_count": null,
   "metadata": {
    "collapsed": true
   },
   "outputs": [],
   "source": [
    "x = np.arange(DH, DH*(NX+1), DH)\n",
    "y = np.arange(DH, DH*(NY+1), DH)\n",
    "lim = min(x),max(x),min(y),max(y);"
   ]
  },
  {
   "cell_type": "markdown",
   "metadata": {},
   "source": [
    "__Define Acquisition geometry__"
   ]
  },
  {
   "cell_type": "markdown",
   "metadata": {},
   "source": [
    "Define source positions"
   ]
  },
  {
   "cell_type": "code",
   "execution_count": null,
   "metadata": {
    "collapsed": true
   },
   "outputs": [],
   "source": [
    "XSRC = 2.0\n",
    "YSRC = 2.0"
   ]
  },
  {
   "cell_type": "markdown",
   "metadata": {},
   "source": [
    "Calculate source-receiver distance r "
   ]
  },
  {
   "cell_type": "code",
   "execution_count": null,
   "metadata": {
    "collapsed": true
   },
   "outputs": [],
   "source": [
    "xv, yv = np.meshgrid(x, y)\n",
    "r = np.sqrt((xv-XSRC)**2+(yv-YSRC)**2)"
   ]
  },
  {
   "cell_type": "markdown",
   "metadata": {},
   "source": [
    "Define discrete frequencies"
   ]
  },
  {
   "cell_type": "code",
   "execution_count": null,
   "metadata": {
    "collapsed": true
   },
   "outputs": [],
   "source": [
    "f = 50e6\n",
    "w = 2.0 * np.pi * f"
   ]
  },
  {
   "cell_type": "markdown",
   "metadata": {},
   "source": [
    "**Calculate analytical solution for homogeneous acoustic full space at each receiver position**"
   ]
  },
  {
   "cell_type": "code",
   "execution_count": null,
   "metadata": {
    "collapsed": true
   },
   "outputs": [],
   "source": [
    "# define material parameters \n",
    "mu0 = 4 * np.pi * 1e-7             # magnetic permeability\n",
    "eps = 4.0 * 8.85e-12               # permittivity\n",
    "sigma = 3e-3                       # conductivity\n",
    "epse = eps + (((0+1j)*sigma) / w)  # effective permittivity\n",
    "\n",
    "k = w * np.sqrt(mu0 * epse)        # complex wavenumber\n",
    "\n",
    "# analytical solution\n",
    "p_analy = -np.flipud(np.real(w * mu0 * sp.hankel1(0,(r*k)) / 4.0))\n",
    "p_analy = p_analy / np.amax(p_analy)\n",
    "vmin = -1.0\n",
    "vmax = 1.0"
   ]
  },
  {
   "cell_type": "markdown",
   "metadata": {},
   "source": [
    "__Plot SubPlots__"
   ]
  },
  {
   "cell_type": "code",
   "execution_count": null,
   "metadata": {},
   "outputs": [],
   "source": [
    "ax1 = plt.subplot2grid((2,2), (0,0), colspan=2)\n",
    "\n",
    "plt.plot(x,p_analy[:][150],'r-',label=\"analytical solution\")\n",
    "plt.plot(x,p[:][150],'b-',label=\"GERMAINE\")\n",
    "\n",
    "plt.legend(loc=4,prop={'weight':'normal','size':FSize,'family':'serif'})\n",
    "plt.grid(True)\n",
    "plt.autoscale(enable=True, axis='x', tight=True)\n",
    "\n",
    "# apply font properties to tick labels\n",
    "a = gca()\n",
    "a.set_xticklabels(a.get_xticks(), font)\n",
    "a.set_yticklabels(a.get_yticks(), font)\n",
    "\n",
    "plt.title('GERMAINE vs. analytical solution (50 MHz)', fontdict=font)\n",
    "plt.ylabel(r'$Re(E_y)$', fontdict=font)\n",
    "plt.xlabel('Distance [m]', fontdict=font)\n",
    "\n",
    "ax2 = plt.subplot2grid((2,2), (1, 0))\n",
    "    \n",
    "# imshow of Vp models\n",
    "cs = plt.imshow(p_analy, cmap='seismic', interpolation='none', extent=[min(x),max(x),min(y),max(y)], vmin=vmin, vmax=vmax, aspect='auto')\n",
    "    \n",
    "# plot source and receiver positions\n",
    "plt.plot(XSRC,YSRC,'r*',linewidth=3,markersize=15);\n",
    "        \n",
    "# display values below lower clip value vmin as white \n",
    "cs.cmap.set_under('w')\n",
    "    \n",
    "# limit imshow \n",
    "plt.axis(lim);\n",
    "    \n",
    "# apply font properties to tick labels\n",
    "a = gca()\n",
    "a.set_xticklabels(a.get_xticks(), font)\n",
    "a.set_yticklabels(a.get_yticks(), font)\n",
    "    \n",
    "a.yaxis.set_major_formatter(mtick.FormatStrFormatter('%.0d'))\n",
    "a.xaxis.set_major_formatter(mtick.FormatStrFormatter('%.0d'))\n",
    "        \n",
    "# label title and axis and apply font properties\n",
    "plt.title('Analytical solution', fontdict=font)\n",
    "plt.ylabel('Depth [m]', fontdict=font)\n",
    "plt.xlabel('Distance [m]', fontdict=font)\n",
    "plt.gca().invert_yaxis()\n",
    "\n",
    "ax3 = plt.subplot2grid((2,2), (1, 1))\n",
    "    \n",
    "# imshow of Vp models\n",
    "cs = plt.imshow(p, cmap='seismic', interpolation='none', extent=[min(x),max(x),min(y),max(y)], vmin=vmin, vmax=vmax, aspect='auto')\n",
    "    \n",
    "# plot source and receiver positions\n",
    "plt.plot(XSRC,YSRC,'r*',linewidth=3,markersize=15);\n",
    "        \n",
    "# display values below lower clip value vmin as white \n",
    "cs.cmap.set_under('w')\n",
    "    \n",
    "# limit imshow \n",
    "plt.axis(lim);\n",
    "\n",
    "ax3.set_yticks([ ])\n",
    "    \n",
    "# apply font properties to tick labels\n",
    "a = gca()\n",
    "a.set_xticklabels(a.get_xticks(), font)\n",
    "a.set_yticklabels(a.get_yticks(), font)\n",
    "    \n",
    "a.yaxis.set_major_formatter(mtick.FormatStrFormatter('%.0d'))\n",
    "a.xaxis.set_major_formatter(mtick.FormatStrFormatter('%.0d'))\n",
    "        \n",
    "# label title and axis and apply font properties\n",
    "plt.title('GERMAINE', fontdict=font)\n",
    "plt.xlabel('Distance [m]', fontdict=font)\n",
    "plt.gca().invert_yaxis()\n",
    "\n",
    "divider = make_axes_locatable(ax3)\n",
    "cax = divider.append_axes(\"right\", size=\"5%\", pad=0.05)\n",
    "cbar = plt.colorbar(cs, cax=cax)\n",
    "cbar.set_label(r\"$Re(E_y)$\", fontdict=font, labelpad=1)\n",
    "cbar.ax.tick_params(labelsize=FSize) \n",
    "\n",
    "# optimize layout\n",
    "plt.tight_layout()\n",
    "#plt.savefig('test.png', format='png', dpi=100)\n",
    "plt.savefig('GERMAINE_analy_comp.pdf', format='pdf')\n",
    "plt.show()"
   ]
  },
  {
   "cell_type": "code",
   "execution_count": null,
   "metadata": {
    "collapsed": true
   },
   "outputs": [],
   "source": []
  }
 ],
 "metadata": {
  "kernelspec": {
   "display_name": "Python 2",
   "language": "python",
   "name": "python2"
  },
  "language_info": {
   "codemirror_mode": {
    "name": "ipython",
    "version": 2
   },
   "file_extension": ".py",
   "mimetype": "text/x-python",
   "name": "python",
   "nbconvert_exporter": "python",
   "pygments_lexer": "ipython2",
   "version": "2.7.13"
  }
 },
 "nbformat": 4,
 "nbformat_minor": 1
}
