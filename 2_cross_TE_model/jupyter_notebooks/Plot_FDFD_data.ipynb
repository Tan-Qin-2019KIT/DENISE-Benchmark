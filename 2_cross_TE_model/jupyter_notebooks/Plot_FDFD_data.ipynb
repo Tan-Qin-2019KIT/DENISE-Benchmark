{
 "cells": [
  {
   "cell_type": "markdown",
   "metadata": {},
   "source": [
    "__Plot GERMAINE FDFD data__\n",
    "\n",
    "Daniel Köhn \n",
    "Kiel, 07/08/2017"
   ]
  },
  {
   "cell_type": "markdown",
   "metadata": {},
   "source": [
    "__Import Libraries__"
   ]
  },
  {
   "cell_type": "code",
   "execution_count": null,
   "metadata": {
    "collapsed": true
   },
   "outputs": [],
   "source": [
    "import matplotlib.pyplot as plt\n",
    "import matplotlib as mpl\n",
    "import numpy as np\n",
    "from matplotlib.colors import LightSource, Normalize\n",
    "from matplotlib.pyplot import gca\n",
    "from pylab import rcParams\n",
    "from matplotlib import rc\n",
    "from matplotlib.ticker import FormatStrFormatter\n",
    "import pickle"
   ]
  },
  {
   "cell_type": "markdown",
   "metadata": {},
   "source": [
    "__FDFD data dimensions__"
   ]
  },
  {
   "cell_type": "code",
   "execution_count": null,
   "metadata": {
    "collapsed": true
   },
   "outputs": [],
   "source": [
    "NSRC = 40   # number of sources\n",
    "NF = 1       # number of frequencies\n",
    "NREC = 117   # number of receivers\n",
    "clip = 2.5e-1 \n",
    "clip1 = 1e-2"
   ]
  },
  {
   "cell_type": "markdown",
   "metadata": {},
   "source": [
    "__Define fonts__"
   ]
  },
  {
   "cell_type": "code",
   "execution_count": null,
   "metadata": {
    "collapsed": true
   },
   "outputs": [],
   "source": [
    "FSize = 30\n",
    "font = {'color':  'black',\n",
    "        'weight': 'normal',\n",
    "        'size': FSize}\n",
    "mpl.rc('xtick', labelsize=FSize) \n",
    "mpl.rc('ytick', labelsize=FSize) \n",
    "rcParams['figure.figsize'] = 20, 12"
   ]
  },
  {
   "cell_type": "markdown",
   "metadata": {},
   "source": [
    "__Read FDFD data__"
   ]
  },
  {
   "cell_type": "code",
   "execution_count": null,
   "metadata": {
    "collapsed": true
   },
   "outputs": [],
   "source": [
    "name_FDFD = \"seis/2_cross_TE_p_stage_1.bin\"\n",
    "f = open (name_FDFD)\n",
    "data_type = np.dtype ('float32').newbyteorder ('<')\n",
    "data_FDFD = np.fromfile(f, dtype=data_type)\n",
    "data_FDFD = data_FDFD.reshape(NF*NSRC,2*NREC)\n",
    "data_FDFD = np.transpose(data_FDFD)\n",
    "data_FDFD = np.flipud(data_FDFD)"
   ]
  },
  {
   "cell_type": "code",
   "execution_count": null,
   "metadata": {
    "collapsed": true
   },
   "outputs": [],
   "source": [
    "name_FDFD = \"seis/2_cross_TE_p_stage_7.bin\"\n",
    "f = open (name_FDFD)\n",
    "data_type = np.dtype ('float32').newbyteorder ('<')\n",
    "data_FDFD1 = np.fromfile(f, dtype=data_type)\n",
    "data_FDFD1 = data_FDFD1.reshape(NF*NSRC,2*NREC)\n",
    "data_FDFD1 = np.transpose(data_FDFD1)\n",
    "data_FDFD1 = np.flipud(data_FDFD1)"
   ]
  },
  {
   "cell_type": "markdown",
   "metadata": {},
   "source": [
    "__Define Axis__"
   ]
  },
  {
   "cell_type": "code",
   "execution_count": null,
   "metadata": {
    "collapsed": true
   },
   "outputs": [],
   "source": [
    "#x = np.arange(0.0, DH*NX, DH)\n",
    "#y = np.arange(0.0, DH*NY, DH)\n",
    "#x = np.divide(x,1000.0);\n",
    "#y = np.divide(y,1000.0);"
   ]
  },
  {
   "cell_type": "markdown",
   "metadata": {},
   "source": [
    "__Define SubPlot__"
   ]
  },
  {
   "cell_type": "code",
   "execution_count": null,
   "metadata": {
    "collapsed": true
   },
   "outputs": [],
   "source": [
    "def do_plot(i, model, cm, title, vpmin, vpmax, n):\n",
    "    \n",
    "    ax=plt.subplot(1, 2, i)\n",
    "    \n",
    "    #ax.set_xticks([1, 2, 3, 4, 5, 6, 7, 8, 9, 10])\n",
    "    #ax.set_yticks([0.5, 1, 1.5, 2, 2.5, 3, 3.5])\n",
    "    \n",
    "    #plt.rc('font',**{'family':'sans-serif','sans-serif':['Helvetica']})\n",
    "    rc('font',**{'family':'sans-serif','sans-serif':['Helvetica']})\n",
    "    ## for Palatino and other serif fonts use:\n",
    "    #rc('font',**{'family':'serif','serif':['Palatino']})\n",
    "    #plt.rc('text', usetex=True)\n",
    "    rc('text', usetex=True)\n",
    "    \n",
    "    # plt.pcolor(x, y, vp, cmap=cm, vmin=vpmin)\n",
    "    NSRC1 = 0 + (n-1) * NSRC\n",
    "    NSRC2 = NSRC - 1 + (n-1) * NSRC\n",
    "    plt.imshow(model[0:2*NREC-1:2,NSRC1:NSRC2], cmap=cm, interpolation='none', extent=[1,NSRC,1,NREC], vmin=vpmin, vmax=vpmax, aspect='auto')\n",
    "    a = gca()\n",
    "    #a.set_xticklabels(a.get_xticks(), font)\n",
    "    #a.set_yticklabels(a.get_yticks(), font)\n",
    "    #plt.axis('scaled')\n",
    "    if(i==1):\n",
    "        plt.ylabel('Receiver no.', fontdict=font)\n",
    "    plt.xlabel('Source no.', fontdict=font)\n",
    "    plt.title(title, fontdict=font)\n",
    "    plt.gca().invert_yaxis()\n",
    "    if(i==2):\n",
    "        ax.set_yticks([])\n",
    "#    cbar=plt.colorbar(aspect=8, pad=0.02)\n",
    "#    cbar.set_label(title, fontdict=font, labelpad=10)\n",
    "#    plt.text(0.1, 0.4,an,fontdict=font,color='white')"
   ]
  },
  {
   "cell_type": "markdown",
   "metadata": {},
   "source": [
    "__Plot SubPlots__"
   ]
  },
  {
   "cell_type": "code",
   "execution_count": null,
   "metadata": {
    "scrolled": false
   },
   "outputs": [],
   "source": [
    "plt.close('all')\n",
    "plt.figure()\n",
    "do_plot(1, data_FDFD, 'seismic', '50 MHz', -clip, clip, 1)\n",
    "do_plot(2, data_FDFD1, 'seismic', '200 MHz', -clip, clip, 1)\n",
    "plt.tight_layout()\n",
    "plt.savefig('test.pdf', bbox_inches='tight', format='pdf')\n",
    "#plt.savefig('test.png', bbox_inches='tight', format='png')\n",
    "plt.show()"
   ]
  }
 ],
 "metadata": {
  "anaconda-cloud": {},
  "kernelspec": {
   "display_name": "Python 2",
   "language": "python",
   "name": "python2"
  },
  "language_info": {
   "codemirror_mode": {
    "name": "ipython",
    "version": 2
   },
   "file_extension": ".py",
   "mimetype": "text/x-python",
   "name": "python",
   "nbconvert_exporter": "python",
   "pygments_lexer": "ipython2",
   "version": "2.7.13"
  }
 },
 "nbformat": 4,
 "nbformat_minor": 1
}
