{
 "cells": [
  {
   "cell_type": "markdown",
   "metadata": {},
   "source": [
    "**Plot FD snapshots**\n",
    "\n",
    "**Daniel Köhn**\n",
    "\n",
    "**Kiel, 30/08/2017**\n",
    "\n",
    "**Import necessary packages**"
   ]
  },
  {
   "cell_type": "code",
   "execution_count": null,
   "metadata": {
    "collapsed": true
   },
   "outputs": [],
   "source": [
    "from __future__ import division\n",
    "import matplotlib.pyplot as plt\n",
    "import matplotlib as mpl\n",
    "import numpy as np\n",
    "from matplotlib.colors import LightSource, Normalize\n",
    "from matplotlib.pyplot import gca\n",
    "from pylab import rcParams\n",
    "from matplotlib import rc\n",
    "import matplotlib.ticker as mtick\n",
    "import matplotlib.gridspec as gridspec\n",
    "import pickle"
   ]
  },
  {
   "cell_type": "markdown",
   "metadata": {},
   "source": [
    "**FD grid dimensions **"
   ]
  },
  {
   "cell_type": "code",
   "execution_count": null,
   "metadata": {
    "collapsed": true
   },
   "outputs": [],
   "source": [
    "DH = 0.07;\n",
    "NX = 180;\n",
    "NY = 180;"
   ]
  },
  {
   "cell_type": "markdown",
   "metadata": {},
   "source": [
    "**Define Axis**"
   ]
  },
  {
   "cell_type": "code",
   "execution_count": null,
   "metadata": {},
   "outputs": [],
   "source": [
    "x = np.arange(0.0, DH*NX, DH)\n",
    "y = np.arange(0.0, DH*NY, DH)"
   ]
  },
  {
   "cell_type": "markdown",
   "metadata": {},
   "source": [
    "**Define fonts**"
   ]
  },
  {
   "cell_type": "code",
   "execution_count": null,
   "metadata": {},
   "outputs": [],
   "source": [
    "FSize = 20\n",
    "font = {'color':  'black',\n",
    "        'weight': 'bold',\n",
    "        'size': FSize}\n",
    "mpl.rc('xtick', labelsize=FSize) \n",
    "mpl.rc('ytick', labelsize=FSize) \n",
    "rcParams['figure.figsize'] = 10, 11"
   ]
  },
  {
   "cell_type": "markdown",
   "metadata": {},
   "source": [
    "**Read permitivity model and snapshots**"
   ]
  },
  {
   "cell_type": "code",
   "execution_count": null,
   "metadata": {},
   "outputs": [],
   "source": [
    "f = open ('start/2_cross_TE_true.eps')\n",
    "data_type = np.dtype ('float32').newbyteorder ('<')\n",
    "eps = np.fromfile (f, dtype=data_type)\n",
    "eps = eps.reshape(NX,NY)\n",
    "eps = np.transpose(eps)\n",
    "eps = np.flipud(eps)"
   ]
  },
  {
   "cell_type": "code",
   "execution_count": null,
   "metadata": {},
   "outputs": [],
   "source": [
    "f1 = open ('snap/2_cross_TE_shot_1_50_MHz.p')\n",
    "snap1 = np.fromfile (f1, dtype=data_type)\n",
    "snap1 = snap1.reshape(NX,NY)\n",
    "snap1 = np.transpose(snap1)\n",
    "snap1 = np.flipud(snap1)"
   ]
  },
  {
   "cell_type": "code",
   "execution_count": null,
   "metadata": {},
   "outputs": [],
   "source": [
    "f1 = open ('snap/2_cross_TE_shot_1_200_MHz.p')\n",
    "snap2 = np.fromfile (f1, dtype=data_type)\n",
    "snap2 = snap2.reshape(NX,NY)\n",
    "snap2 = np.transpose(snap2)\n",
    "snap2 = np.flipud(snap2)"
   ]
  },
  {
   "cell_type": "markdown",
   "metadata": {},
   "source": [
    "**Plot $\\alpha$-blending of FD snapshots (Jet) and permitivity model (Gray)**"
   ]
  },
  {
   "cell_type": "code",
   "execution_count": null,
   "metadata": {
    "scrolled": true
   },
   "outputs": [],
   "source": [
    "def do_plot(n, snap, an, title):\n",
    "    \n",
    "    ax=plt.subplot(1,2,n)\n",
    "    \n",
    "    extent = [DH,NX*DH,DH,NY*DH]\n",
    "    cmax=5e-2\n",
    "    cmin=-cmax\n",
    "\n",
    "    plt.rc('font',**{'family':'sans-serif','sans-serif':['Helvetica']})\n",
    "    plt.rc('text', usetex=True)\n",
    "\n",
    "    im1 = plt.imshow(eps, cmap=plt.cm.gray, interpolation='nearest', extent=extent)\n",
    "    plt.hold(True)\n",
    "\n",
    "    im2 = plt.imshow(snap, cmap=plt.cm.seismic, alpha=0.75, interpolation='bicubic',extent=extent, vmin=cmin, vmax=cmax)\n",
    "\n",
    "    a = gca()\n",
    "    a.set_xticklabels(a.get_xticks(), font)\n",
    "    a.set_yticklabels(a.get_yticks(), font)\n",
    "    \n",
    "    a.yaxis.set_major_formatter(mtick.FormatStrFormatter('%.0d'))\n",
    "    a.xaxis.set_major_formatter(mtick.FormatStrFormatter('%.0d'))\n",
    "    \n",
    "    plt.title(title, fontdict=font)\n",
    "    if(n==1):\n",
    "        plt.ylabel('Depth [m]', fontdict=font)\n",
    "    plt.xlabel('Distance [m]', fontdict=font)\n",
    "    if(n==2):\n",
    "        ax.set_yticks([])\n",
    "    plt.gca().invert_yaxis()"
   ]
  },
  {
   "cell_type": "code",
   "execution_count": null,
   "metadata": {},
   "outputs": [],
   "source": [
    "plt.close('all')\n",
    "plt.figure()\n",
    "do_plot(1, snap1,'(a)', r\"FDFD snapshot (50 MHz)\")\n",
    "do_plot(2, snap2,'(b)', r\"FDFD snapshot (200 MHz)\")\n",
    "plt.tight_layout()\n",
    "#plt.savefig('test.png', format='png', dpi=100)\n",
    "plt.savefig('test.pdf', bbox_inches='tight', format='pdf')\n",
    "plt.show()"
   ]
  }
 ],
 "metadata": {
  "anaconda-cloud": {},
  "kernelspec": {
   "display_name": "Python 2",
   "language": "python",
   "name": "python2"
  },
  "language_info": {
   "codemirror_mode": {
    "name": "ipython",
    "version": 2
   },
   "file_extension": ".py",
   "mimetype": "text/x-python",
   "name": "python",
   "nbconvert_exporter": "python",
   "pygments_lexer": "ipython2",
   "version": "2.7.13"
  }
 },
 "nbformat": 4,
 "nbformat_minor": 1
}
