{
 "cells": [
  {
   "cell_type": "markdown",
   "metadata": {},
   "source": [
    "**Plot FD snapshots**\n",
    "\n",
    "**Daniel Köhn**\n",
    "\n",
    "**Kiel, 30/08/2017**\n",
    "\n",
    "**Import necessary packages**"
   ]
  },
  {
   "cell_type": "code",
   "execution_count": null,
   "metadata": {
    "collapsed": true
   },
   "outputs": [],
   "source": [
    "from __future__ import division\n",
    "import matplotlib.pyplot as plt\n",
    "import matplotlib as mpl\n",
    "import numpy as np\n",
    "from matplotlib.colors import LightSource, Normalize\n",
    "from matplotlib.pyplot import gca\n",
    "from pylab import rcParams\n",
    "from matplotlib import rc\n",
    "import matplotlib.ticker as mtick\n",
    "import matplotlib.gridspec as gridspec\n",
    "import pickle"
   ]
  },
  {
   "cell_type": "markdown",
   "metadata": {},
   "source": [
    "**FD grid dimensions **"
   ]
  },
  {
   "cell_type": "code",
   "execution_count": null,
   "metadata": {
    "collapsed": true
   },
   "outputs": [],
   "source": [
    "DH = 0.07;\n",
    "NX = 200;\n",
    "NY = 200;"
   ]
  },
  {
   "cell_type": "markdown",
   "metadata": {},
   "source": [
    "**Define Axis**"
   ]
  },
  {
   "cell_type": "code",
   "execution_count": null,
   "metadata": {
    "collapsed": false
   },
   "outputs": [],
   "source": [
    "x = np.arange(0.0, DH*NX, DH)\n",
    "y = np.arange(0.0, DH*NY, DH)"
   ]
  },
  {
   "cell_type": "markdown",
   "metadata": {},
   "source": [
    "**Define fonts**"
   ]
  },
  {
   "cell_type": "code",
   "execution_count": null,
   "metadata": {
    "collapsed": false
   },
   "outputs": [],
   "source": [
    "FSize = 15\n",
    "font = {'color':  'black',\n",
    "        'weight': 'bold',\n",
    "        'size': FSize}\n",
    "mpl.rc('xtick', labelsize=FSize) \n",
    "mpl.rc('ytick', labelsize=FSize) \n",
    "rcParams['figure.figsize'] = 10, 11"
   ]
  },
  {
   "cell_type": "markdown",
   "metadata": {},
   "source": [
    "**Read gradient and Hessian**"
   ]
  },
  {
   "cell_type": "code",
   "execution_count": null,
   "metadata": {
    "collapsed": false
   },
   "outputs": [],
   "source": [
    "f = open ('pseudo_hessian/gradient_epsilon_no_hess_p.old')\n",
    "data_type = np.dtype ('float32').newbyteorder ('<')\n",
    "grad = np.fromfile (f, dtype=data_type)\n",
    "grad = grad.reshape(NX,NY)\n",
    "grad = np.transpose(grad)\n",
    "grad = np.flipud(grad)"
   ]
  },
  {
   "cell_type": "code",
   "execution_count": null,
   "metadata": {
    "collapsed": false
   },
   "outputs": [],
   "source": [
    "f1 = open ('app_hessian/gradient_hess_epsilon')\n",
    "hess = np.fromfile (f1, dtype=data_type)\n",
    "hess = hess.reshape(NX,NY)\n",
    "hess = np.transpose(hess)\n",
    "hess = np.flipud(hess)"
   ]
  },
  {
   "cell_type": "code",
   "execution_count": null,
   "metadata": {
    "collapsed": false
   },
   "outputs": [],
   "source": [
    "f1 = open ('app_hessian/gradient_epsilon_hess_p.old')\n",
    "grad_hess = np.fromfile (f1, dtype=data_type)\n",
    "grad_hess = grad_hess.reshape(NX,NY)\n",
    "grad_hess = np.transpose(grad_hess)\n",
    "grad_hess = np.flipud(grad_hess)"
   ]
  },
  {
   "cell_type": "markdown",
   "metadata": {},
   "source": [
    "**Plot $\\alpha$-blending of FD snapshots (Jet) and permitivity model (Gray)**"
   ]
  },
  {
   "cell_type": "code",
   "execution_count": null,
   "metadata": {
    "collapsed": false,
    "scrolled": true
   },
   "outputs": [],
   "source": [
    "def do_plot(n, snap, an, title, cmin, cmax):\n",
    "    \n",
    "    ax=plt.subplot(1,3,n)\n",
    "    \n",
    "    extent = [DH,NX*DH,DH,NY*DH]\n",
    "\n",
    "    plt.rc('font',**{'family':'sans-serif','sans-serif':['Helvetica']})\n",
    "    plt.rc('text', usetex=True)\n",
    "\n",
    "    im1 = plt.imshow(snap, cmap=plt.cm.gray, interpolation='nearest',extent=extent, vmin=cmin, vmax=cmax)\n",
    "\n",
    "    a = gca()\n",
    "    a.set_xticklabels(a.get_xticks(), font)\n",
    "    a.set_yticklabels(a.get_yticks(), font)\n",
    "    \n",
    "    a.yaxis.set_major_formatter(mtick.FormatStrFormatter('%.0d'))\n",
    "    a.xaxis.set_major_formatter(mtick.FormatStrFormatter('%.0d'))\n",
    "    \n",
    "    plt.title(title, fontdict=font)\n",
    "    if(n==1):\n",
    "        plt.ylabel('Depth [m]', fontdict=font)\n",
    "    plt.xlabel('Distance [m]', fontdict=font)\n",
    "    if(n>=2):\n",
    "        ax.set_yticks([])\n",
    "    plt.gca().invert_yaxis()"
   ]
  },
  {
   "cell_type": "code",
   "execution_count": null,
   "metadata": {
    "collapsed": false
   },
   "outputs": [],
   "source": [
    "plt.close('all')\n",
    "plt.figure()\n",
    "do_plot(1, grad,'', r\"Gradient $\\rm{G_{\\epsilon_r}}$\",np.min(grad),np.max(grad))\n",
    "#do_plot(2, hess,'', r\"Pseudo-Hessian $\\rm{\\mathcal{H}_{\\epsilon_r}}$\",np.min(hess),np.max(hess))\n",
    "do_plot(2, hess,'', r\"Approximate-Hessian $\\rm{\\mathcal{H}_{\\epsilon_r}}$\",np.min(hess),np.max(hess))\n",
    "do_plot(3, -grad_hess,'', r\"$\\rm{\\mathcal{H}^{-1}_{\\epsilon_r}G_{\\epsilon_r}}$\",np.min(grad_hess),np.max(grad_hess))\n",
    "plt.tight_layout()\n",
    "#plt.savefig('test.png', format='png', dpi=100)\n",
    "plt.savefig('test.pdf', bbox_inches='tight', format='pdf')\n",
    "plt.show()"
   ]
  }
 ],
 "metadata": {
  "anaconda-cloud": {},
  "kernelspec": {
   "display_name": "Python [default]",
   "language": "python",
   "name": "python3"
  },
  "language_info": {
   "codemirror_mode": {
    "name": "ipython",
    "version": 3
   },
   "file_extension": ".py",
   "mimetype": "text/x-python",
   "name": "python",
   "nbconvert_exporter": "python",
   "pygments_lexer": "ipython3",
   "version": "3.5.2"
  }
 },
 "nbformat": 4,
 "nbformat_minor": 0
}
