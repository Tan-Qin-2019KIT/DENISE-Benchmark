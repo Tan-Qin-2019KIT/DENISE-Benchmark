{
 "cells": [
  {
   "cell_type": "markdown",
   "metadata": {},
   "source": [
    "**Plot FD snapshots**\n",
    "\n",
    "**Daniel Köhn**\n",
    "\n",
    "**Kiel, 30/08/2017**\n",
    "\n",
    "**Import necessary packages**"
   ]
  },
  {
   "cell_type": "code",
   "execution_count": 294,
   "metadata": {
    "collapsed": true
   },
   "outputs": [],
   "source": [
    "from __future__ import division\n",
    "import matplotlib.pyplot as plt\n",
    "import matplotlib as mpl\n",
    "import numpy as np\n",
    "from matplotlib.colors import LightSource, Normalize\n",
    "from matplotlib.pyplot import gca\n",
    "from pylab import rcParams\n",
    "from matplotlib import rc\n",
    "import matplotlib.ticker as mtick\n",
    "from mpl_toolkits.axes_grid1 import make_axes_locatable\n",
    "import pickle"
   ]
  },
  {
   "cell_type": "markdown",
   "metadata": {},
   "source": [
    "**FD grid dimensions **"
   ]
  },
  {
   "cell_type": "code",
   "execution_count": 295,
   "metadata": {
    "collapsed": true
   },
   "outputs": [],
   "source": [
    "DH = 0.07;\n",
    "NX = 180;\n",
    "NY = 180;"
   ]
  },
  {
   "cell_type": "markdown",
   "metadata": {},
   "source": [
    "**Define Axis**"
   ]
  },
  {
   "cell_type": "code",
   "execution_count": 296,
   "metadata": {
    "collapsed": false
   },
   "outputs": [],
   "source": [
    "x = np.arange(0.0, DH*NX, DH)\n",
    "y = np.arange(0.0, DH*NY, DH)"
   ]
  },
  {
   "cell_type": "markdown",
   "metadata": {},
   "source": [
    "**Define fonts**"
   ]
  },
  {
   "cell_type": "code",
   "execution_count": 297,
   "metadata": {
    "collapsed": false
   },
   "outputs": [],
   "source": [
    "FSize = 15\n",
    "font = {'color':  'black',\n",
    "        'weight': 'bold',\n",
    "        'size': FSize}\n",
    "mpl.rc('xtick', labelsize=FSize) \n",
    "mpl.rc('ytick', labelsize=FSize) \n",
    "rcParams['figure.figsize'] = 10, 10"
   ]
  },
  {
   "cell_type": "markdown",
   "metadata": {},
   "source": [
    "**Read permitivity and conductivity models**"
   ]
  },
  {
   "cell_type": "code",
   "execution_count": 298,
   "metadata": {
    "collapsed": true
   },
   "outputs": [],
   "source": [
    "eps0 = 8.85e-12\n",
    "sig0 = 5.6e-3\n",
    "#eps0 = 1.0\n",
    "#sig0 = 1.0"
   ]
  },
  {
   "cell_type": "code",
   "execution_count": 299,
   "metadata": {
    "collapsed": false
   },
   "outputs": [],
   "source": [
    "f = open ('start/2_cross_TE_true.eps')\n",
    "data_type = np.dtype ('float32').newbyteorder ('<')\n",
    "eps = np.fromfile (f, dtype=data_type)\n",
    "eps = eps.reshape(NX,NY)\n",
    "eps = np.transpose(eps)\n",
    "eps = np.flipud(eps)\n",
    "eps = eps / eps0"
   ]
  },
  {
   "cell_type": "code",
   "execution_count": 300,
   "metadata": {
    "collapsed": false
   },
   "outputs": [],
   "source": [
    "f = open ('start/2_cross_TE_true.sig')\n",
    "data_type = np.dtype ('float32').newbyteorder ('<')\n",
    "sig = np.fromfile (f, dtype=data_type)\n",
    "sig = sig.reshape(NX,NY)\n",
    "sig = np.transpose(sig)\n",
    "sig = np.flipud(sig)\n",
    "sig = sig / sig0"
   ]
  },
  {
   "cell_type": "code",
   "execution_count": 301,
   "metadata": {
    "collapsed": false
   },
   "outputs": [],
   "source": [
    "f = open ('start/2_cross_TE_init.eps')\n",
    "data_type = np.dtype ('float32').newbyteorder ('<')\n",
    "eps_init = np.fromfile (f, dtype=data_type)\n",
    "eps_init = eps_init.reshape(NX,NY)\n",
    "eps_init = np.transpose(eps_init)\n",
    "eps_init = np.flipud(eps_init)\n",
    "eps_init = eps_init / eps0"
   ]
  },
  {
   "cell_type": "code",
   "execution_count": 302,
   "metadata": {
    "collapsed": false
   },
   "outputs": [],
   "source": [
    "f = open ('start/2_cross_TE_init.sig')\n",
    "data_type = np.dtype ('float32').newbyteorder ('<')\n",
    "sig_init = np.fromfile (f, dtype=data_type)\n",
    "sig_init = sig_init.reshape(NX,NY)\n",
    "sig_init = np.transpose(sig_init)\n",
    "sig_init = np.flipud(sig_init)\n",
    "sig_init = sig_init / sig0"
   ]
  },
  {
   "cell_type": "markdown",
   "metadata": {},
   "source": [
    "**Plot $\\alpha$-blending of FD snapshots (Jet) and permitivity model (Gray)**"
   ]
  },
  {
   "cell_type": "code",
   "execution_count": 303,
   "metadata": {
    "collapsed": false,
    "scrolled": true
   },
   "outputs": [],
   "source": [
    "def do_plot(n, model, an, title, vmin, vmax, cmap_an):\n",
    "    \n",
    "    ax=plt.subplot(2,2,n)\n",
    "    \n",
    "    extent = [DH,NX*DH,DH,NY*DH]\n",
    "    cmax=5e-2\n",
    "    cmin=-cmax\n",
    "\n",
    "    plt.rc('font',**{'family':'sans-serif','sans-serif':['Helvetica']})\n",
    "    plt.rc('text', usetex=True)\n",
    "\n",
    "    im1 = plt.imshow(model, cmap='seismic', interpolation='nearest', extent=extent, vmin=vmin, vmax=vmax, aspect='auto')\n",
    "\n",
    "    a = gca()\n",
    "    a.set_xticklabels(a.get_xticks(), font)\n",
    "    a.set_yticklabels(a.get_yticks(), font)\n",
    "    \n",
    "    a.yaxis.set_major_formatter(mtick.FormatStrFormatter('%.0d'))\n",
    "    a.xaxis.set_major_formatter(mtick.FormatStrFormatter('%.0d'))\n",
    "    \n",
    "    plt.title(title, fontdict=font)\n",
    "    if(n==1 or n==3):\n",
    "        plt.ylabel('Depth [m]', fontdict=font)\n",
    "    if(n>2):    \n",
    "        plt.xlabel('Distance [m]', fontdict=font)\n",
    "    if(n==2 or n==4):\n",
    "        ax.set_yticks([]) \n",
    "    plt.gca().invert_yaxis()\n",
    "    \n",
    "    # fit and label colorbar\n",
    "    divider = make_axes_locatable(ax)\n",
    "    if(n==2 or n==4):\n",
    "        cax = divider.append_axes(\"right\", size=\"2.5%\", pad=0.05)\n",
    "        cbar = plt.colorbar(im1, cax=cax)\n",
    "        cbar.set_label(cmap_an, fontdict=font, labelpad=1)"
   ]
  },
  {
   "cell_type": "code",
   "execution_count": 304,
   "metadata": {
    "collapsed": false
   },
   "outputs": [
    {
     "data": {
      "image/png": "[encoded data removed]",
      "text/plain": [
       "<matplotlib.figure.Figure at 0x1d04ccdb9e8>"
      ]
     },
     "metadata": {},
     "output_type": "display_data"
    }
   ],
   "source": [
    "plt.close('all')\n",
    "plt.figure()\n",
    "do_plot(1, eps,'', r\"True permittivity model\",np.min(eps),np.max(eps), r\"$\\epsilon_r []$\")\n",
    "do_plot(2, eps_init,'', r\"Initial permittivity model\",np.min(eps),np.max(eps), r\"$\\epsilon_r []$\")\n",
    "do_plot(3, sig,'', r\"True conductivity model\",np.min(sig),np.max(sig), r\"$\\sigma_r []$\")\n",
    "do_plot(4, sig_init,'', r\"Initial conductivity model\",np.min(sig),np.max(sig), r\"$\\sigma_r []$\")\n",
    "plt.tight_layout()\n",
    "#plt.savefig('test.png', format='png', dpi=100)\n",
    "plt.savefig('test.pdf', bbox_inches='tight', format='pdf')\n",
    "plt.show()"
   ]
  }
 ],
 "metadata": {
  "anaconda-cloud": {},
  "kernelspec": {
   "display_name": "Python [default]",
   "language": "python",
   "name": "python3"
  },
  "language_info": {
   "codemirror_mode": {
    "name": "ipython",
    "version": 3
   },
   "file_extension": ".py",
   "mimetype": "text/x-python",
   "name": "python",
   "nbconvert_exporter": "python",
   "pygments_lexer": "ipython3",
   "version": "3.5.2"
  }
 },
 "nbformat": 4,
 "nbformat_minor": 0
}
